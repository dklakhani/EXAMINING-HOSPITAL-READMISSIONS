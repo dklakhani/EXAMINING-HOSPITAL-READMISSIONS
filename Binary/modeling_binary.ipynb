{
 "cells": [
  {
   "cell_type": "code",
   "execution_count": 176,
   "metadata": {},
   "outputs": [],
   "source": [
    "import pandas as pd\n",
    "import numpy as np\n",
    "import seaborn as sns\n",
    "import matplotlib.pyplot as plt\n",
    "\n",
    "import scipy.stats as stats\n",
    "from scipy.stats import chi2_contingency\n",
    "import statsmodels.api as sm\n",
    "from statsmodels.formula.api import ols\n",
    "import statsmodels\n",
    "\n",
    "from sklearn.preprocessing import LabelEncoder, MinMaxScaler, StandardScaler\n",
    "\n",
    "from sklearn.feature_selection import SelectKBest, RFE, SequentialFeatureSelector, RFECV, f_classif, mutual_info_classif\n",
    "from mlxtend.feature_selection import ExhaustiveFeatureSelector as EFS\n",
    "\n",
    "from sklearn.model_selection import StratifiedKFold, GridSearchCV, cross_val_score\n",
    "from sklearn.ensemble import GradientBoostingClassifier, RandomForestClassifier, RandomForestRegressor\n",
    "\n",
    "from sklearn.linear_model import LinearRegression, LogisticRegression, RidgeCV\n",
    "from sklearn.svm import SVC\n",
    "from sklearn.neural_network import MLPClassifier\n",
    "from sklearn.tree import DecisionTreeClassifier\n",
    "from sklearn.ensemble import BaggingClassifier\n",
    "\n",
    "from sklearn.metrics import confusion_matrix, accuracy_score, f1_score, classification_report\n",
    "\n",
    "from imblearn.under_sampling import RandomUnderSampler\n",
    "from imblearn.over_sampling import SMOTE\n",
    "from imblearn.over_sampling import RandomOverSampler\n",
    "\n",
    "import warnings\n",
    "warnings.filterwarnings('ignore')"
   ]
  },
  {
   "cell_type": "code",
   "execution_count": 177,
   "metadata": {},
   "outputs": [],
   "source": [
    "%store -r df_2\n",
    "%store -r y_train_binary\n",
    "%store -r X_val_binary\n",
    "%store -r y_val_binary\n",
    "%store -r test\n",
    "%store -r metric_features\n",
    "%store -r non_metric_features"
   ]
  },
  {
   "cell_type": "code",
   "execution_count": 178,
   "metadata": {},
   "outputs": [],
   "source": [
    "X_train = df_2\n",
    "y_train = y_train_binary\n",
    "X_val = X_val_binary\n",
    "y_val = y_val_binary\n",
    "test = test"
   ]
  },
  {
   "cell_type": "code",
   "execution_count": 179,
   "metadata": {},
   "outputs": [
    {
     "data": {
      "text/plain": [
       "Index(['is_male', 'has_insurance', 'admission_type', 'medical_specialty',\n",
       "       'healthy_heartrate', 'discharged_home', 'admission_source',\n",
       "       'primary_diagnosis', 'secondary_diagnosis', 'additional_diagnosis',\n",
       "       'glucose_test_result', 'a1c_test_result',\n",
       "       'change_in_meds_during_hospitalization', 'metformin', 'insulin',\n",
       "       'prescribed_diabetes_meds', 'is_inpatient', 'race_AfricanAmerican',\n",
       "       'race_Caucasian', 'race_Hispanic', 'race_Other'],\n",
       "      dtype='object')"
      ]
     },
     "execution_count": 179,
     "metadata": {},
     "output_type": "execute_result"
    }
   ],
   "source": [
    "categorical = X_train.select_dtypes(include=['category','bool','object']).columns\n",
    "categorical"
   ]
  },
  {
   "cell_type": "code",
   "execution_count": 180,
   "metadata": {},
   "outputs": [
    {
     "data": {
      "text/plain": [
       "Index(['age', 'outpatient_visits_in_previous_year',\n",
       "       'emergency_visits_in_previous_year',\n",
       "       'inpatient_visits_in_previous_year', 'length_of_stay_in_hospital',\n",
       "       'number_lab_tests', 'non_lab_procedures', 'number_of_medications',\n",
       "       'number_diagnoses', 'num_medication', 'total_visits_previous_year',\n",
       "       'total_tests', 'visit_count'],\n",
       "      dtype='object')"
      ]
     },
     "execution_count": 180,
     "metadata": {},
     "output_type": "execute_result"
    }
   ],
   "source": [
    "numerical = X_train.select_dtypes(exclude=['category', 'bool', 'object']).columns\n",
    "numerical"
   ]
  },
  {
   "cell_type": "markdown",
   "metadata": {},
   "source": [
    "# Encoding Categorical Features"
   ]
  },
  {
   "cell_type": "markdown",
   "metadata": {},
   "source": [
    "## Frequency Encoding - Medical Specialty "
   ]
  },
  {
   "cell_type": "markdown",
   "metadata": {},
   "source": [
    "It is a better approach than one hot encoding since we have a lot of categories, and using it would increase data sparcity. Label encoder wouldn 't be a good approach too since there isn't any hierarchial order in the medical specialty labels. So the best approach in this variable is frequency encoder, specially because we have imbalanced data (some categories have a great difference in frequency in relation to others)."
   ]
  },
  {
   "cell_type": "code",
   "execution_count": 181,
   "metadata": {},
   "outputs": [],
   "source": [
    "#frequency encoding in X_train\n",
    "freq_encod_ms = (X_train.groupby('medical_specialty').size()) / len(X_train)\n",
    "X_train['medical_specialty'] = X_train['medical_specialty'].apply(lambda x : freq_encod_ms[x])\n",
    "\n",
    "#apply calculated encoding from the X_train in X_val and test dataset\n",
    "X_val['medical_specialty'] = X_val['medical_specialty'].apply(lambda x : freq_encod_ms[x])\n",
    "test['medical_specialty'] = test['medical_specialty'].apply(lambda x : freq_encod_ms[x])\n",
    "\n",
    "# X_train['medical_specialty'] = X_train['medical_specialty'].astype('category')\n",
    "# X_val['medical_specialty'] = X_val['medical_specialty'].astype('category')\n",
    "# test['medical_specialty'] = test['medical_specialty'].astype('category')"
   ]
  },
  {
   "cell_type": "markdown",
   "metadata": {},
   "source": [
    "## Label Encoding - Admission Type\n",
    "https://www.england.nhs.uk/statistics/wp-content/uploads/sites/2/2013/04/QAR-commentary-Q1-1617-53636.pdf\n",
    "\n",
    "Number of patients admitted electively during the quarter. Admissions are split into two \n",
    "types, elective and non-elective. Non-elective admissions are emergency admissions an \n",
    "elective admissions include all other types."
   ]
  },
  {
   "cell_type": "code",
   "execution_count": 182,
   "metadata": {},
   "outputs": [],
   "source": [
    "X_train['admission_type'] = X_train['admission_type'].map({'Emergency': 2, 'Elective': 1, 'Urgent':1})\n",
    "#X_train['admission_type'] = X_train['admission_type'].astype(int)\n",
    "\n",
    "X_val['admission_type'] = X_val['admission_type'].map({'Emergency': 2, 'Elective': 1, 'Urgent':1})\n",
    "#X_val['admission_type'] = X_val['admission_type'].astype(int)\n",
    "\n",
    "test['admission_type'] = test['admission_type'].map({'Emergency': 2, 'Elective': 1, 'Urgent':1})\n",
    "#test['admission_type'] = test['admission_type'].astype(int)"
   ]
  },
  {
   "cell_type": "markdown",
   "metadata": {},
   "source": [
    "## Frequency Encoding - Admission Source"
   ]
  },
  {
   "cell_type": "code",
   "execution_count": 183,
   "metadata": {},
   "outputs": [],
   "source": [
    "#frequency encoding in X_train\n",
    "freq_encod_as = (X_train.groupby('admission_source').size()) / len(X_train)\n",
    "X_train['admission_source'] = X_train['admission_source'].apply(lambda x : freq_encod_as[x])\n",
    "\n",
    "#apply calculated encoding from the X_train in X_val and test dataset\n",
    "X_val['admission_source'] = X_val['admission_source'].apply(lambda x : freq_encod_as[x])\n",
    "test['admission_source'] = test['admission_source'].apply(lambda x : freq_encod_as[x])\n",
    "\n",
    "# X_train['admission_source'] = X_train['admission_source'].astype('category')\n",
    "# X_val['admission_source'] = X_val['admission_source'].astype('category')\n",
    "# test['admission_source'] = test['admission_source'].astype('category')"
   ]
  },
  {
   "cell_type": "markdown",
   "metadata": {},
   "source": [
    "## Frequency Encoding - Discharge Disposition"
   ]
  },
  {
   "cell_type": "markdown",
   "metadata": {},
   "source": [
    "we use discharged_home!!"
   ]
  },
  {
   "cell_type": "code",
   "execution_count": 184,
   "metadata": {},
   "outputs": [],
   "source": [
    "# #frequency encoding in X_train\n",
    "# freq_encod_as = (X_train.groupby('discharge_disposition').size()) / len(X_train)\n",
    "# X_train['discharge_disposition'] = X_train['discharge_disposition'].apply(lambda x : freq_encod_as[x])\n",
    "\n",
    "# #apply calculated encoding from the X_train in X_val and test dataset\n",
    "# X_val['discharge_disposition'] = X_val['discharge_disposition'].apply(lambda x : freq_encod_as[x])\n",
    "# test['discharge_disposition'] = test['discharge_disposition'].apply(lambda x : freq_encod_as[x])\n",
    "\n",
    "# # X_train['discharge_disposition'] = X_train['discharge_disposition'].astype('category')\n",
    "# # X_val['discharge_disposition'] = X_val['discharge_disposition'].astype('category')\n",
    "# # test['discharge_disposition'] = test['discharge_disposition'].astype('category')"
   ]
  },
  {
   "cell_type": "markdown",
   "metadata": {},
   "source": [
    "## Frequency Encoding - A1c test\n",
    "we use Label/Ordinal Encoder "
   ]
  },
  {
   "cell_type": "code",
   "execution_count": 185,
   "metadata": {},
   "outputs": [],
   "source": [
    "# #frequency encoding in X_train\n",
    "# freq_encod_a1c = (X_train.groupby('a1c_test_result').size()) / len(X_train)\n",
    "# X_train['a1c_test_result'] = X_train['a1c_test_result'].apply(lambda x : freq_encod_a1c[x])\n",
    "\n",
    "# #apply calculated encoding from the X_train in X_val and test dataset\n",
    "# X_val['a1c_test_result'] = X_val['a1c_test_result'].apply(lambda x : freq_encod_a1c[x])\n",
    "# test['a1c_test_result'] = test['a1c_test_result'].apply(lambda x : freq_encod_a1c[x])\n",
    "\n",
    "# # X_train['a1c_test_result'] = X_train['a1c_test_result'].astype('category')\n",
    "# # X_val['a1c_test_result'] = X_val['a1c_test_result'].astype('category')\n",
    "# # test['a1c_test_result'] = test['a1c_test_result'].astype('category')"
   ]
  },
  {
   "cell_type": "code",
   "execution_count": 186,
   "metadata": {},
   "outputs": [],
   "source": [
    "#freq_encod_a1c"
   ]
  },
  {
   "cell_type": "markdown",
   "metadata": {},
   "source": [
    "## Frequency Encoding - Glucose test\n",
    "we use Label/Ordinal Encoder "
   ]
  },
  {
   "cell_type": "code",
   "execution_count": 187,
   "metadata": {},
   "outputs": [
    {
     "data": {
      "text/plain": [
       "glucose_test_result\n",
       "0    52234\n",
       "2     1476\n",
       "1     1426\n",
       "Name: count, dtype: int64"
      ]
     },
     "execution_count": 187,
     "metadata": {},
     "output_type": "execute_result"
    }
   ],
   "source": [
    "X_train.glucose_test_result.value_counts()"
   ]
  },
  {
   "cell_type": "code",
   "execution_count": 188,
   "metadata": {},
   "outputs": [],
   "source": [
    "# #frequency encoding in X_train\n",
    "# freq_encod_g = (X_train.groupby('glucose_test_result').size()) / len(X_train)\n",
    "# X_train['glucose_test_result'] = X_train['glucose_test_result'].apply(lambda x : freq_encod_g[x])\n",
    "\n",
    "# #apply calculated encoding from the X_train in X_val and test dataset\n",
    "# X_val['glucose_test_result'] = X_val['glucose_test_result'].apply(lambda x : freq_encod_g[x])\n",
    "# test['glucose_test_result'] = test['glucose_test_result'].apply(lambda x : freq_encod_g[x])\n",
    "\n",
    "# # X_train['glucose_test_result'] = X_train['glucose_test_result'].astype('category')\n",
    "# # X_val['glucose_test_result'] = X_val['glucose_test_result'].astype('category')\n",
    "# # test['glucose_test_result'] = test['glucose_test_result'].astype('category')"
   ]
  },
  {
   "cell_type": "markdown",
   "metadata": {},
   "source": [
    "## Frequency Encoding - Primary Diagnosis"
   ]
  },
  {
   "cell_type": "code",
   "execution_count": 189,
   "metadata": {},
   "outputs": [],
   "source": [
    "#frequency encoding in X_train\n",
    "freq_encod_pd = (X_train.groupby('primary_diagnosis').size()) / len(X_train)\n",
    "X_train['primary_diagnosis'] = X_train['primary_diagnosis'].apply(lambda x : freq_encod_pd[x])\n",
    "\n",
    "#apply calculated encoding from the X_train in X_val and test dataset\n",
    "X_val['primary_diagnosis'] = X_val['primary_diagnosis'].apply(lambda x : freq_encod_pd[x])\n",
    "test['primary_diagnosis'] = test['primary_diagnosis'].apply(lambda x : freq_encod_pd[x])\n",
    "\n",
    "# X_train['primary_diagnosis'] = X_train['primary_diagnosis'].astype('category')\n",
    "# X_val['primary_diagnosis'] = X_val['primary_diagnosis'].astype('category')\n",
    "# test['primary_diagnosis'] = test['primary_diagnosis'].astype('category')"
   ]
  },
  {
   "cell_type": "markdown",
   "metadata": {},
   "source": [
    "## Frequency Encoding - Secondary Diagnosis"
   ]
  },
  {
   "cell_type": "code",
   "execution_count": 190,
   "metadata": {},
   "outputs": [],
   "source": [
    "#frequency encoding in X_train\n",
    "freq_encod_sd = (X_train.groupby('secondary_diagnosis').size()) / len(X_train)\n",
    "X_train['secondary_diagnosis'] = X_train['secondary_diagnosis'].apply(lambda x : freq_encod_sd[x])\n",
    "\n",
    "#apply calculated encoding from the X_train in X_val and test dataset\n",
    "X_val['secondary_diagnosis'] = X_val['secondary_diagnosis'].apply(lambda x : freq_encod_sd[x])\n",
    "test['secondary_diagnosis'] = test['secondary_diagnosis'].apply(lambda x : freq_encod_sd[x])\n",
    "\n",
    "# X_train['secondary_diagnosis'] = X_train['secondary_diagnosis'].astype('category')\n",
    "# X_val['secondary_diagnosis'] = X_val['secondary_diagnosis'].astype('category')\n",
    "# test['secondary_diagnosis'] = test['secondary_diagnosis'].astype('category')\n"
   ]
  },
  {
   "cell_type": "markdown",
   "metadata": {},
   "source": [
    "## Frequency Encoding - Additional Diagnosis"
   ]
  },
  {
   "cell_type": "code",
   "execution_count": 191,
   "metadata": {},
   "outputs": [],
   "source": [
    "#frequency encoding in X_train\n",
    "freq_encod_ad = (X_train.groupby('additional_diagnosis').size()) / len(X_train)\n",
    "X_train['additional_diagnosis'] = X_train['additional_diagnosis'].apply(lambda x : freq_encod_ad[x])\n",
    "\n",
    "#apply calculated encoding from the X_train in X_val and test dataset\n",
    "X_val['additional_diagnosis'] = X_val['additional_diagnosis'].apply(lambda x : freq_encod_ad[x])\n",
    "test['additional_diagnosis'] = test['additional_diagnosis'].apply(lambda x : freq_encod_ad[x])\n",
    "\n",
    "# X_train['additional_diagnosis'] = X_train['additional_diagnosis'].astype('category')\n",
    "# X_val['additional_diagnosis'] = X_val['additional_diagnosis'].astype('category')\n",
    "# test['additional_diagnosis'] = test['additional_diagnosis'].astype('category')"
   ]
  },
  {
   "cell_type": "markdown",
   "metadata": {},
   "source": [
    "## Data Scaling - only on numerical features"
   ]
  },
  {
   "cell_type": "markdown",
   "metadata": {},
   "source": [
    "### MinMax"
   ]
  },
  {
   "cell_type": "code",
   "execution_count": 192,
   "metadata": {},
   "outputs": [],
   "source": [
    "# scaler = MinMaxScaler()\n",
    "# mmdf = scaler.fit_transform(X_train)\n",
    "# X_train = pd.DataFrame(mmdf, columns = X_train.columns).set_index(X_train.index)\n",
    "# X_train.head()"
   ]
  },
  {
   "cell_type": "code",
   "execution_count": 193,
   "metadata": {},
   "outputs": [],
   "source": [
    "# #min max for validation data\n",
    "# mmdf_val = scaler.fit_transform(X_val)\n",
    "# X_val = pd.DataFrame(mmdf_val, columns = X_val.columns).set_index(X_val.index)"
   ]
  },
  {
   "cell_type": "code",
   "execution_count": 194,
   "metadata": {},
   "outputs": [],
   "source": [
    "# #min max for test data\n",
    "# mmdf_test = scaler.fit_transform(test)\n",
    "# test = pd.DataFrame(mmdf_test, columns = test.columns).set_index(test.index)"
   ]
  },
  {
   "cell_type": "code",
   "execution_count": 195,
   "metadata": {},
   "outputs": [],
   "source": [
    "# categorical = [#'is_male', \n",
    "#             #    'has_insurance', \n",
    "#                'medical_specialty', \n",
    "#                'discharged_home', 'admission_source', 'primary_diagnosis', 'secondary_diagnosis', 'additional_diagnosis',\n",
    "#                'glucose_test_result', 'a1c_test_result', 'metformin', 'insulin', 'is_inpatient', 'race_Caucasian', 'race_Other']\n",
    "#                #,'critical_amount_of_diagnoses', 'critical_amount_of_visits_this_year']\n",
    "\n",
    "# numerical = X_train.columns.drop(categorical).to_list()"
   ]
  },
  {
   "cell_type": "code",
   "execution_count": 196,
   "metadata": {},
   "outputs": [
    {
     "data": {
      "text/plain": [
       "Index(['age', 'outpatient_visits_in_previous_year',\n",
       "       'emergency_visits_in_previous_year',\n",
       "       'inpatient_visits_in_previous_year', 'length_of_stay_in_hospital',\n",
       "       'number_lab_tests', 'non_lab_procedures', 'number_of_medications',\n",
       "       'number_diagnoses', 'num_medication', 'total_visits_previous_year',\n",
       "       'total_tests', 'visit_count'],\n",
       "      dtype='object')"
      ]
     },
     "execution_count": 196,
     "metadata": {},
     "output_type": "execute_result"
    }
   ],
   "source": [
    "numerical"
   ]
  },
  {
   "cell_type": "code",
   "execution_count": 197,
   "metadata": {},
   "outputs": [],
   "source": [
    "scaler = MinMaxScaler()\n",
    "\n",
    "X_train[numerical] = scaler.fit_transform(X_train[numerical])\n",
    "X_val[numerical] = scaler.fit_transform(X_val[numerical])\n",
    "test[numerical] = scaler.fit_transform(test[numerical])"
   ]
  },
  {
   "cell_type": "markdown",
   "metadata": {},
   "source": [
    "### Standard"
   ]
  },
  {
   "cell_type": "code",
   "execution_count": 198,
   "metadata": {},
   "outputs": [],
   "source": [
    "# scaler = StandardScaler()\n",
    "\n",
    "# X_train[numerical] = scaler.fit_transform(X_train[numerical])\n",
    "# X_val[numerical] = scaler.fit_transform(X_val[numerical])\n",
    "# test[numerical] = scaler.fit_transform(test[numerical])"
   ]
  },
  {
   "cell_type": "markdown",
   "metadata": {},
   "source": [
    "# Balance Data - *Before*"
   ]
  },
  {
   "cell_type": "markdown",
   "metadata": {},
   "source": [
    "## Oversampling"
   ]
  },
  {
   "cell_type": "markdown",
   "metadata": {},
   "source": [
    "### Smote"
   ]
  },
  {
   "cell_type": "code",
   "execution_count": 199,
   "metadata": {},
   "outputs": [],
   "source": [
    "# smote = SMOTE(random_state=42)\n",
    "\n",
    "# # Apply SMOTE to generate synthetic samples\n",
    "# X_train, y_train = smote.fit_resample(X_train, y_train)"
   ]
  },
  {
   "cell_type": "markdown",
   "metadata": {},
   "source": [
    "### Random Oversampling"
   ]
  },
  {
   "cell_type": "code",
   "execution_count": 200,
   "metadata": {},
   "outputs": [],
   "source": [
    "# over_sampler = RandomOverSampler(sampling_strategy='auto', random_state=42) # The sampling_strategy='auto' option balances the classes\n",
    "# X_train, y_train = over_sampler.fit_resample(X_train, y_train)"
   ]
  },
  {
   "cell_type": "markdown",
   "metadata": {},
   "source": [
    "## Undersampling"
   ]
  },
  {
   "cell_type": "markdown",
   "metadata": {},
   "source": [
    "### Random Undersampling"
   ]
  },
  {
   "cell_type": "code",
   "execution_count": 201,
   "metadata": {},
   "outputs": [],
   "source": [
    "under_sampler = RandomUnderSampler(sampling_strategy='auto', random_state=42) # The sampling_strategy='auto' option balances the classes\n",
    "X_train, y_train = under_sampler.fit_resample(X_train, y_train)"
   ]
  },
  {
   "cell_type": "markdown",
   "metadata": {},
   "source": [
    "# Assessing Relationships between Categorical Variables\n",
    "## Feature Selection"
   ]
  },
  {
   "cell_type": "markdown",
   "metadata": {},
   "source": [
    "### Chi2 - Test Independence (Categorical variable x target)\n",
    "\n",
    "Independence between a single categorical predictor variable and the binary target variable"
   ]
  },
  {
   "cell_type": "code",
   "execution_count": 202,
   "metadata": {},
   "outputs": [
    {
     "name": "stdout",
     "output_type": "stream",
     "text": [
      "is_male is NOT an important predictor. (Discard is_male from model)\n",
      "has_insurance is NOT an important predictor. (Discard has_insurance from model)\n",
      "admission_type is NOT an important predictor. (Discard admission_type from model)\n",
      "medical_specialty is IMPORTANT for Prediction\n",
      "healthy_heartrate is NOT an important predictor. (Discard healthy_heartrate from model)\n",
      "discharged_home is IMPORTANT for Prediction\n",
      "admission_source is NOT an important predictor. (Discard admission_source from model)\n",
      "primary_diagnosis is IMPORTANT for Prediction\n",
      "secondary_diagnosis is IMPORTANT for Prediction\n",
      "additional_diagnosis is IMPORTANT for Prediction\n",
      "glucose_test_result is NOT an important predictor. (Discard glucose_test_result from model)\n",
      "a1c_test_result is IMPORTANT for Prediction\n",
      "change_in_meds_during_hospitalization is IMPORTANT for Prediction\n",
      "metformin is IMPORTANT for Prediction\n",
      "insulin is IMPORTANT for Prediction\n",
      "prescribed_diabetes_meds is IMPORTANT for Prediction\n",
      "is_inpatient is IMPORTANT for Prediction\n",
      "race_AfricanAmerican is NOT an important predictor. (Discard race_AfricanAmerican from model)\n",
      "race_Caucasian is IMPORTANT for Prediction\n",
      "race_Hispanic is NOT an important predictor. (Discard race_Hispanic from model)\n",
      "race_Other is IMPORTANT for Prediction\n"
     ]
    }
   ],
   "source": [
    "def TestIndependence(X,y,var,alpha=0.05):        \n",
    "    dfObserved = pd.crosstab(y,X) \n",
    "    chi2, p, dof, expected = stats.chi2_contingency(dfObserved.values)\n",
    "    dfExpected = pd.DataFrame(expected, columns=dfObserved.columns, index = dfObserved.index)\n",
    "    if p<alpha:\n",
    "        result=\"{0} is IMPORTANT for Prediction\".format(var)\n",
    "    else:\n",
    "        result=\"{0} is NOT an important predictor. (Discard {0} from model)\".format(var)\n",
    "    print(result)\n",
    "\n",
    "for var in X_train[categorical]:\n",
    "    TestIndependence(X_train[categorical][var],y_train.values.ravel(), var) #so that y_train is 1-D"
   ]
  },
  {
   "cell_type": "markdown",
   "metadata": {},
   "source": [
    "### Chi2 - Test Independence (Categorical variable x Categorical variable)\n",
    "\n",
    "Independence between every categorical variables"
   ]
  },
  {
   "cell_type": "code",
   "execution_count": 203,
   "metadata": {},
   "outputs": [
    {
     "name": "stdout",
     "output_type": "stream",
     "text": [
      "(is_male, medical_specialty): DEPENDENT\n",
      "(is_male, discharged_home): DEPENDENT\n",
      "(is_male, primary_diagnosis): DEPENDENT\n",
      "(is_male, secondary_diagnosis): DEPENDENT\n",
      "(is_male, additional_diagnosis): DEPENDENT\n",
      "(is_male, a1c_test_result): DEPENDENT\n",
      "(is_male, change_in_meds_during_hospitalization): DEPENDENT\n",
      "(is_male, prescribed_diabetes_meds): DEPENDENT\n",
      "(is_male, is_inpatient): DEPENDENT\n",
      "(is_male, race_AfricanAmerican): DEPENDENT\n",
      "(is_male, race_Caucasian): DEPENDENT\n",
      "(is_male, race_Hispanic): DEPENDENT\n",
      "(has_insurance, admission_type): DEPENDENT\n",
      "(has_insurance, medical_specialty): DEPENDENT\n",
      "(has_insurance, discharged_home): DEPENDENT\n",
      "(has_insurance, primary_diagnosis): DEPENDENT\n",
      "(has_insurance, secondary_diagnosis): DEPENDENT\n",
      "(has_insurance, additional_diagnosis): DEPENDENT\n",
      "(has_insurance, glucose_test_result): DEPENDENT\n",
      "(has_insurance, a1c_test_result): DEPENDENT\n",
      "(has_insurance, change_in_meds_during_hospitalization): DEPENDENT\n",
      "(has_insurance, metformin): DEPENDENT\n",
      "(has_insurance, insulin): DEPENDENT\n",
      "(has_insurance, prescribed_diabetes_meds): DEPENDENT\n",
      "(has_insurance, is_inpatient): DEPENDENT\n",
      "(has_insurance, race_AfricanAmerican): DEPENDENT\n",
      "(has_insurance, race_Caucasian): DEPENDENT\n",
      "(has_insurance, race_Hispanic): DEPENDENT\n",
      "(admission_type, medical_specialty): DEPENDENT\n",
      "(admission_type, discharged_home): DEPENDENT\n",
      "(admission_type, admission_source): DEPENDENT\n",
      "(admission_type, primary_diagnosis): DEPENDENT\n",
      "(admission_type, secondary_diagnosis): DEPENDENT\n",
      "(admission_type, additional_diagnosis): DEPENDENT\n",
      "(admission_type, glucose_test_result): DEPENDENT\n",
      "(admission_type, a1c_test_result): DEPENDENT\n",
      "(admission_type, change_in_meds_during_hospitalization): DEPENDENT\n",
      "(admission_type, metformin): DEPENDENT\n",
      "(admission_type, prescribed_diabetes_meds): DEPENDENT\n",
      "(admission_type, is_inpatient): DEPENDENT\n",
      "(admission_type, race_AfricanAmerican): DEPENDENT\n",
      "(admission_type, race_Caucasian): DEPENDENT\n",
      "(admission_type, race_Other): DEPENDENT\n",
      "(medical_specialty, discharged_home): DEPENDENT\n",
      "(medical_specialty, admission_source): DEPENDENT\n",
      "(medical_specialty, primary_diagnosis): DEPENDENT\n",
      "(medical_specialty, secondary_diagnosis): DEPENDENT\n",
      "(medical_specialty, additional_diagnosis): DEPENDENT\n",
      "(medical_specialty, glucose_test_result): DEPENDENT\n",
      "(medical_specialty, a1c_test_result): DEPENDENT\n",
      "(medical_specialty, change_in_meds_during_hospitalization): DEPENDENT\n",
      "(medical_specialty, metformin): DEPENDENT\n",
      "(medical_specialty, insulin): DEPENDENT\n",
      "(medical_specialty, prescribed_diabetes_meds): DEPENDENT\n",
      "(medical_specialty, is_inpatient): DEPENDENT\n",
      "(medical_specialty, race_AfricanAmerican): DEPENDENT\n",
      "(medical_specialty, race_Caucasian): DEPENDENT\n",
      "(medical_specialty, race_Hispanic): DEPENDENT\n",
      "(healthy_heartrate, glucose_test_result): DEPENDENT\n",
      "(discharged_home, admission_source): DEPENDENT\n",
      "(discharged_home, primary_diagnosis): DEPENDENT\n",
      "(discharged_home, secondary_diagnosis): DEPENDENT\n",
      "(discharged_home, additional_diagnosis): DEPENDENT\n",
      "(discharged_home, glucose_test_result): DEPENDENT\n",
      "(discharged_home, a1c_test_result): DEPENDENT\n",
      "(discharged_home, change_in_meds_during_hospitalization): DEPENDENT\n",
      "(discharged_home, metformin): DEPENDENT\n",
      "(discharged_home, insulin): DEPENDENT\n",
      "(discharged_home, is_inpatient): DEPENDENT\n",
      "(discharged_home, race_AfricanAmerican): DEPENDENT\n",
      "(discharged_home, race_Caucasian): DEPENDENT\n",
      "(admission_source, primary_diagnosis): DEPENDENT\n",
      "(admission_source, secondary_diagnosis): DEPENDENT\n",
      "(admission_source, additional_diagnosis): DEPENDENT\n",
      "(admission_source, glucose_test_result): DEPENDENT\n",
      "(admission_source, a1c_test_result): DEPENDENT\n",
      "(admission_source, change_in_meds_during_hospitalization): DEPENDENT\n",
      "(admission_source, metformin): DEPENDENT\n",
      "(admission_source, is_inpatient): DEPENDENT\n",
      "(admission_source, race_AfricanAmerican): DEPENDENT\n",
      "(admission_source, race_Caucasian): DEPENDENT\n",
      "(admission_source, race_Hispanic): DEPENDENT\n",
      "(admission_source, race_Other): DEPENDENT\n",
      "(primary_diagnosis, secondary_diagnosis): DEPENDENT\n",
      "(primary_diagnosis, additional_diagnosis): DEPENDENT\n",
      "(primary_diagnosis, glucose_test_result): DEPENDENT\n",
      "(primary_diagnosis, a1c_test_result): DEPENDENT\n",
      "(primary_diagnosis, change_in_meds_during_hospitalization): DEPENDENT\n",
      "(primary_diagnosis, metformin): DEPENDENT\n",
      "(primary_diagnosis, insulin): DEPENDENT\n",
      "(primary_diagnosis, prescribed_diabetes_meds): DEPENDENT\n",
      "(primary_diagnosis, is_inpatient): DEPENDENT\n",
      "(primary_diagnosis, race_AfricanAmerican): DEPENDENT\n",
      "(primary_diagnosis, race_Caucasian): DEPENDENT\n",
      "(primary_diagnosis, race_Hispanic): DEPENDENT\n",
      "(secondary_diagnosis, additional_diagnosis): DEPENDENT\n",
      "(secondary_diagnosis, glucose_test_result): DEPENDENT\n",
      "(secondary_diagnosis, a1c_test_result): DEPENDENT\n",
      "(secondary_diagnosis, change_in_meds_during_hospitalization): DEPENDENT\n",
      "(secondary_diagnosis, metformin): DEPENDENT\n",
      "(secondary_diagnosis, insulin): DEPENDENT\n",
      "(secondary_diagnosis, prescribed_diabetes_meds): DEPENDENT\n",
      "(secondary_diagnosis, is_inpatient): DEPENDENT\n",
      "(secondary_diagnosis, race_AfricanAmerican): DEPENDENT\n",
      "(secondary_diagnosis, race_Caucasian): DEPENDENT\n",
      "(secondary_diagnosis, race_Hispanic): DEPENDENT\n",
      "(additional_diagnosis, a1c_test_result): DEPENDENT\n",
      "(additional_diagnosis, change_in_meds_during_hospitalization): DEPENDENT\n",
      "(additional_diagnosis, metformin): DEPENDENT\n",
      "(additional_diagnosis, insulin): DEPENDENT\n",
      "(additional_diagnosis, prescribed_diabetes_meds): DEPENDENT\n",
      "(additional_diagnosis, is_inpatient): DEPENDENT\n",
      "(additional_diagnosis, race_AfricanAmerican): DEPENDENT\n",
      "(additional_diagnosis, race_Caucasian): DEPENDENT\n",
      "(glucose_test_result, a1c_test_result): DEPENDENT\n",
      "(glucose_test_result, change_in_meds_during_hospitalization): DEPENDENT\n",
      "(glucose_test_result, metformin): DEPENDENT\n",
      "(glucose_test_result, insulin): DEPENDENT\n",
      "(glucose_test_result, prescribed_diabetes_meds): DEPENDENT\n",
      "(glucose_test_result, race_AfricanAmerican): DEPENDENT\n",
      "(glucose_test_result, race_Caucasian): DEPENDENT\n",
      "(glucose_test_result, race_Hispanic): DEPENDENT\n",
      "(a1c_test_result, change_in_meds_during_hospitalization): DEPENDENT\n",
      "(a1c_test_result, metformin): DEPENDENT\n",
      "(a1c_test_result, insulin): DEPENDENT\n",
      "(a1c_test_result, prescribed_diabetes_meds): DEPENDENT\n",
      "(a1c_test_result, is_inpatient): DEPENDENT\n",
      "(a1c_test_result, race_Caucasian): DEPENDENT\n",
      "(a1c_test_result, race_Hispanic): DEPENDENT\n",
      "(a1c_test_result, race_Other): DEPENDENT\n",
      "(change_in_meds_during_hospitalization, metformin): DEPENDENT\n",
      "(change_in_meds_during_hospitalization, insulin): DEPENDENT\n",
      "(change_in_meds_during_hospitalization, prescribed_diabetes_meds): DEPENDENT\n",
      "(change_in_meds_during_hospitalization, is_inpatient): DEPENDENT\n",
      "(metformin, insulin): DEPENDENT\n",
      "(metformin, prescribed_diabetes_meds): DEPENDENT\n",
      "(metformin, race_AfricanAmerican): DEPENDENT\n",
      "(insulin, prescribed_diabetes_meds): DEPENDENT\n",
      "(insulin, is_inpatient): DEPENDENT\n",
      "(insulin, race_AfricanAmerican): DEPENDENT\n",
      "(insulin, race_Caucasian): DEPENDENT\n",
      "(insulin, race_Other): DEPENDENT\n",
      "(prescribed_diabetes_meds, is_inpatient): DEPENDENT\n",
      "(prescribed_diabetes_meds, race_AfricanAmerican): DEPENDENT\n",
      "(prescribed_diabetes_meds, race_Other): DEPENDENT\n",
      "(race_AfricanAmerican, race_Caucasian): DEPENDENT\n",
      "(race_AfricanAmerican, race_Hispanic): DEPENDENT\n",
      "(race_AfricanAmerican, race_Other): DEPENDENT\n",
      "(race_Caucasian, race_Hispanic): DEPENDENT\n",
      "(race_Caucasian, race_Other): DEPENDENT\n",
      "(race_Hispanic, race_Other): DEPENDENT\n"
     ]
    }
   ],
   "source": [
    "def TestIndependenceForAll(cat, alpha=0.05):\n",
    "    results = {}\n",
    "\n",
    "    for i in range(len(cat.columns)):\n",
    "        for j in range(i + 1, len(cat.columns)):\n",
    "            var1 = cat.columns[i]\n",
    "            var2 = cat.columns[j]\n",
    "\n",
    "            # Perform chi-squared test for independence\n",
    "            contingency_table = pd.crosstab(cat[var1], cat[var2])\n",
    "            chi2, p, _, _ = stats.chi2_contingency(contingency_table)\n",
    "\n",
    "            # Record the result\n",
    "            if p < alpha:\n",
    "                result = \"DEPENDENT\"\n",
    "            else:\n",
    "                result = \"INDEPENDENT\"\n",
    "\n",
    "            results[(var1, var2)] = result\n",
    "\n",
    "    return results\n",
    "\n",
    "results = TestIndependenceForAll(X_train[categorical])\n",
    "for (var1, var2), result in results.items():\n",
    "    if result == 'DEPENDENT':\n",
    "        print(f'({var1}, {var2}): {result}')"
   ]
  },
  {
   "cell_type": "markdown",
   "metadata": {},
   "source": [
    "### Cramer's V \n",
    "\n",
    "Cramér’s V is an effect size measurement for the chi-square test of independence. It measures how strongly two categorical fields are associated.\n",
    "\n",
    "If two variables have a high Cramér's V value, it suggests a strong association between them. In some cases, this may indicate redundancy, and you might consider dropping one of the variables to simplify your model. <br>\n",
    "\n",
    "https://www.ibm.com/docs/en/cognos-analytics/11.1.0?topic=terms-cramrs-v\n",
    "\n",
    "ES - Effect Size\n",
    "\n",
    "ES ≤ 0.2\tThe result is weak. Although the result is statistically significant, the fields are only weakly associated. <br>\n",
    "0.2 < ES ≤ 0.6\tThe result is moderate. The fields are moderately associated. <br>\n",
    "ES > 0.6\tThe result is strong. The fields are strongly associated. <br>"
   ]
  },
  {
   "cell_type": "markdown",
   "metadata": {},
   "source": [
    "#### ES <= 0.2"
   ]
  },
  {
   "cell_type": "code",
   "execution_count": 204,
   "metadata": {},
   "outputs": [],
   "source": [
    "# Function to calculate Cramér's V for categorical variable pairs\n",
    "def calculate_cramers_v_pair(cat_var1, cat_var2):\n",
    "    contingency_table = pd.crosstab(X_train[cat_var1], X_train[cat_var2])\n",
    "    chi2, _, _, _ = chi2_contingency(contingency_table)\n",
    "    n = contingency_table.sum().sum()\n",
    "    min_dim = min(contingency_table.shape) - 1\n",
    "    return np.sqrt(chi2 / (n * min_dim))\n",
    "\n",
    "# Calculate Cramér's V for each pair of categorical variables\n",
    "# for i in range(len(categorical)):\n",
    "#     for j in range(i+1, len(categorical)):\n",
    "#         cat_var1 = categorical[i]\n",
    "#         cat_var2 = categorical[j]\n",
    "        \n",
    "#         v = round(calculate_cramers_v_pair(cat_var1, cat_var2), 5)\n",
    "#         if v <= 0.2:  # threshold\n",
    "#             print(f\"Cramér's V between {cat_var1} and {cat_var2}: {v}\")"
   ]
  },
  {
   "cell_type": "markdown",
   "metadata": {},
   "source": [
    "#### 0.2 < ES <= 0.6"
   ]
  },
  {
   "cell_type": "code",
   "execution_count": 205,
   "metadata": {},
   "outputs": [
    {
     "name": "stdout",
     "output_type": "stream",
     "text": [
      "Cramér's V between has_insurance and medical_specialty: 0.25018\n",
      "Cramér's V between admission_type and medical_specialty: 0.39951\n",
      "Cramér's V between admission_type and primary_diagnosis: 0.25296\n",
      "Cramér's V between medical_specialty and admission_source: 0.24926\n"
     ]
    },
    {
     "name": "stdout",
     "output_type": "stream",
     "text": [
      "Cramér's V between admission_source and primary_diagnosis: 0.21663\n",
      "Cramér's V between change_in_meds_during_hospitalization and metformin: 0.29738\n",
      "Cramér's V between change_in_meds_during_hospitalization and insulin: 0.51953\n",
      "Cramér's V between change_in_meds_during_hospitalization and prescribed_diabetes_meds: 0.49216\n",
      "Cramér's V between metformin and prescribed_diabetes_meds: 0.25204\n",
      "Cramér's V between insulin and prescribed_diabetes_meds: 0.57804\n",
      "Cramér's V between race_Caucasian and race_Hispanic: 0.24458\n",
      "Cramér's V between race_Caucasian and race_Other: 0.39596\n"
     ]
    }
   ],
   "source": [
    "for i in range(len(categorical)):\n",
    "    for j in range(i+1, len(categorical)):\n",
    "        cat_var1 = categorical[i]\n",
    "        cat_var2 = categorical[j]\n",
    "        \n",
    "        v = round(calculate_cramers_v_pair(cat_var1, cat_var2), 5)\n",
    "        if v > 0.2 and v <= 0.6:  # threshold\n",
    "            print(f\"Cramér's V between {cat_var1} and {cat_var2}: {v}\")"
   ]
  },
  {
   "cell_type": "markdown",
   "metadata": {},
   "source": [
    "#### ES > 0.6"
   ]
  },
  {
   "cell_type": "code",
   "execution_count": 206,
   "metadata": {},
   "outputs": [
    {
     "name": "stdout",
     "output_type": "stream",
     "text": [
      "Cramér's V between admission_type and admission_source: 0.69404\n",
      "Cramér's V between race_AfricanAmerican and race_Caucasian: 0.78945\n"
     ]
    }
   ],
   "source": [
    "for i in range(len(categorical)):\n",
    "    for j in range(i+1, len(categorical)):\n",
    "        cat_var1 = categorical[i]\n",
    "        cat_var2 = categorical[j]\n",
    "        \n",
    "        v = round(calculate_cramers_v_pair(cat_var1, cat_var2), 5)\n",
    "        if v > 0.6:  # threshold\n",
    "            print(f\"Cramér's V between {cat_var1} and {cat_var2}: {v}\")"
   ]
  },
  {
   "cell_type": "markdown",
   "metadata": {},
   "source": [
    "------------------------------------\n",
    "admission_type and admission_source: 0.51844 <br>\n",
    "change_in_meds_during_hospitalization and insulin: 0.51419<br>\n",
    "change_in_meds_during_hospitalization and prescribed_diabetes_meds: 0.50545<br>\n",
    "insulin and prescribed_diabetes_meds: 0.58486<br>\n",
    "race_AfricanAmerican and race_Caucasian: 0.76722\n",
    "\n",
    "drop: admission_type, change_in_meds_during_hospitalization, prescribed_diabetes_meds, race_AfricanAmerican<br>\n",
    "\n",
    "------------------------------------\n"
   ]
  },
  {
   "cell_type": "markdown",
   "metadata": {},
   "source": [
    "### ANOVA (Analysis of Variance) -> Categorical x Numerical"
   ]
  },
  {
   "cell_type": "code",
   "execution_count": 207,
   "metadata": {},
   "outputs": [],
   "source": [
    "# df = pd.concat([X_train, y_train], axis=1)\n",
    "\n",
    "# # Perform ANOVA for each numerical variable with respect to the categorical variables\n",
    "# anova_results = []\n",
    "\n",
    "# for num_var in numerical:\n",
    "#     for cat_var in categorical:\n",
    "#         formula = f\"{num_var} ~ C({cat_var})\"\n",
    "#         model = ols(formula, data=df).fit()\n",
    "#         anova_table = sm.stats.anova_lm(model, typ=2)\n",
    "#         anova_results.append({\n",
    "#             'Numerical Variable': num_var,\n",
    "#             'Categorical Variable': cat_var,\n",
    "#             'F-Statistic': anova_table['F'][0],\n",
    "#             'P-Value': anova_table['PR(>F)'][0]\n",
    "#         })\n",
    "\n",
    "# anova_df = pd.DataFrame(anova_results)\n",
    "# anova_df"
   ]
  },
  {
   "cell_type": "code",
   "execution_count": 208,
   "metadata": {},
   "outputs": [],
   "source": [
    "# # groups with significant differences \n",
    "# # H0​: there are no significant differences among the group means (it states that all population group means are equal)\n",
    "# filtered_results = anova_df[(anova_df['F-Statistic'] > 10) & (anova_df['P-Value'] < 0.05)]\n",
    "# filtered_results\n"
   ]
  },
  {
   "cell_type": "code",
   "execution_count": 209,
   "metadata": {},
   "outputs": [],
   "source": [
    "def drop_features(df):\n",
    "\n",
    "    df.drop('is_male', axis = 1, inplace=True)\n",
    "    df.drop('admission_type', axis = 1, inplace=True) #\n",
    "    df.drop('healthy_heartrate', axis = 1, inplace=True)\n",
    "    df.drop('race_AfricanAmerican', axis = 1, inplace=True) #\n",
    "    df.drop('race_Hispanic', axis = 1, inplace=True) \n",
    "    df.drop('prescribed_diabetes_meds', axis = 1, inplace=True) #\n",
    "    df.drop('change_in_meds_during_hospitalization', axis = 1, inplace=True) #\n",
    "\n",
    "drop_features(X_train)\n",
    "drop_features(X_val)\n",
    "drop_features(test)"
   ]
  },
  {
   "cell_type": "markdown",
   "metadata": {},
   "source": [
    "# Assessing Relationships between Numerical Variable x Numerical Variable\n",
    "## Feature Selection  - Filter Methods"
   ]
  },
  {
   "cell_type": "markdown",
   "metadata": {},
   "source": [
    "Check if any of the numerical variables is univariate (variance is equal to 0). Drop those variables if existent."
   ]
  },
  {
   "cell_type": "code",
   "execution_count": 210,
   "metadata": {},
   "outputs": [
    {
     "data": {
      "text/plain": [
       "age                                   0.029665\n",
       "has_insurance                         0.240578\n",
       "outpatient_visits_in_previous_year    0.014054\n",
       "emergency_visits_in_previous_year     0.011303\n",
       "inpatient_visits_in_previous_year     0.036012\n",
       "medical_specialty                     0.077451\n",
       "discharged_home                       0.197621\n",
       "admission_source                      0.034618\n",
       "length_of_stay_in_hospital            0.060158\n",
       "number_lab_tests                      0.043739\n",
       "non_lab_procedures                     0.07472\n",
       "number_of_medications                 0.016584\n",
       "primary_diagnosis                     0.011898\n",
       "secondary_diagnosis                   0.013166\n",
       "additional_diagnosis                  0.010885\n",
       "number_diagnoses                      0.028163\n",
       "glucose_test_result                   0.140539\n",
       "a1c_test_result                       0.424167\n",
       "num_medication                        0.022071\n",
       "metformin                             0.153679\n",
       "insulin                               0.247379\n",
       "total_visits_previous_year            0.052799\n",
       "total_tests                           0.044351\n",
       "is_inpatient                          0.111071\n",
       "race_Caucasian                        0.193717\n",
       "race_Other                             0.05021\n",
       "visit_count                             0.0423\n",
       "dtype: object"
      ]
     },
     "execution_count": 210,
     "metadata": {},
     "output_type": "execute_result"
    }
   ],
   "source": [
    "X_train.var()"
   ]
  },
  {
   "cell_type": "markdown",
   "metadata": {},
   "source": [
    "### Pearson Correlation"
   ]
  },
  {
   "cell_type": "markdown",
   "metadata": {},
   "source": [
    "https://www.analyticsvidhya.com/blog/2021/03/comparison-of-pearson-and-spearman-correlation-coefficients/\n",
    "\n",
    "para explicar"
   ]
  },
  {
   "cell_type": "code",
   "execution_count": 211,
   "metadata": {},
   "outputs": [
    {
     "data": {
      "image/png": "[encoded data removed]",
      "text/plain": [
       "<Figure size 1000x800 with 2 Axes>"
      ]
     },
     "metadata": {},
     "output_type": "display_data"
    }
   ],
   "source": [
    "# Prepare figure\n",
    "fig = plt.figure(figsize=(10, 8))\n",
    "\n",
    "# Obtain correlation matrix. Round the values to 2 decimal cases. Use the DataFrame corr() and round() method.\n",
    "corr = np.round(X_train[numerical].corr(method=\"pearson\"), decimals=2)\n",
    "\n",
    "# Build annotation matrix (values above |0.5| will appear annotated in the plot)\n",
    "mask_annot = np.absolute(corr.values) >= 0.65\n",
    "annot = np.where(mask_annot, corr.values, np.full(corr.shape,\"\")) # Try to understand what this np.where() does\n",
    "\n",
    "# Plot heatmap of the correlation matrix\n",
    "sns.heatmap(data=corr, annot=annot, cmap=sns.diverging_palette(220, 10, as_cmap=True), \n",
    "            fmt='s', vmin=-1, vmax=1, center=0, square=True, linewidths=.5)\n",
    "\n",
    "# Layout\n",
    "fig.subplots_adjust(top=0.95)\n",
    "fig.suptitle(\"Correlation Matrix\", fontsize=20)\n",
    "\n",
    "plt.show()"
   ]
  },
  {
   "cell_type": "code",
   "execution_count": 212,
   "metadata": {},
   "outputs": [
    {
     "name": "stdout",
     "output_type": "stream",
     "text": [
      "High Correlation: inpatient_visits_in_previous_year and total_visits_previous_year - Correlation: 0.8123692611944647\n",
      "High Correlation: number_lab_tests and total_tests - Correlation: 0.9964935093145459\n"
     ]
    }
   ],
   "source": [
    "# Calculate the correlation matrix\n",
    "correlation_matrix = X_train.corr()\n",
    "\n",
    "# Find pairs of variables with a correlation greater than 0.65\n",
    "high_correlation_pairs = []\n",
    "for i in range(len(correlation_matrix.columns)):\n",
    "    for j in range(i + 1, len(correlation_matrix.columns)):\n",
    "        if abs(correlation_matrix.iloc[i, j]) > 0.65:\n",
    "            high_correlation_pairs.append((correlation_matrix.columns[i], correlation_matrix.columns[j]))\n",
    "# Display the pairs of variables with high correlation\n",
    "for pair in high_correlation_pairs:\n",
    "    correlation_value = correlation_matrix.loc[pair[0], pair[1]]\n",
    "    print(f\"High Correlation: {pair[0]} and {pair[1]} - Correlation: {correlation_value}\")\n"
   ]
  },
  {
   "cell_type": "markdown",
   "metadata": {},
   "source": [
    "### Spearman Correlation"
   ]
  },
  {
   "cell_type": "code",
   "execution_count": 213,
   "metadata": {},
   "outputs": [
    {
     "name": "stdout",
     "output_type": "stream",
     "text": [
      "High Correlation: inpatient_visits_in_previous_year and total_visits_previous_year - Correlation: 0.8184886853883835\n",
      "High Correlation: number_lab_tests and total_tests - Correlation: 0.9958105255224255\n"
     ]
    }
   ],
   "source": [
    "# Calculate the correlation matrix\n",
    "correlation_matrix = X_train.corr(method='spearman')\n",
    "\n",
    "# Find pairs of variables with a correlation greater than 0.65\n",
    "high_correlation_pairs = []\n",
    "for i in range(len(correlation_matrix.columns)):\n",
    "    for j in range(i + 1, len(correlation_matrix.columns)):\n",
    "        if abs(correlation_matrix.iloc[i, j]) > 0.65:\n",
    "            high_correlation_pairs.append((correlation_matrix.columns[i], correlation_matrix.columns[j]))\n",
    "# Display the pairs of variables with high correlation\n",
    "for pair in high_correlation_pairs:\n",
    "    correlation_value = correlation_matrix.loc[pair[0], pair[1]]\n",
    "    print(f\"High Correlation: {pair[0]} and {pair[1]} - Correlation: {correlation_value}\")\n"
   ]
  },
  {
   "cell_type": "markdown",
   "metadata": {},
   "source": [
    "These variables will be considered as non correlatated to the target and so they are going to be dropped."
   ]
  },
  {
   "cell_type": "markdown",
   "metadata": {},
   "source": [
    "Crossing the outputs of the above methods we will drop the following columns: total_visits_previous_year,total_tests,is_male, admission_type, healthy_heartrate, race_AfricanAmerican,race_Asian,race_Hispanic."
   ]
  },
  {
   "cell_type": "code",
   "execution_count": 214,
   "metadata": {},
   "outputs": [],
   "source": [
    "def drop_features(df):\n",
    "    \n",
    "    df.drop('total_visits_previous_year', axis = 1, inplace=True)\n",
    "    df.drop('total_tests', axis = 1, inplace=True)\n",
    "    # df.drop('num_medication', axis = 1, inplace=True)\n",
    "\n",
    "drop_features(X_train)\n",
    "drop_features(X_val)\n",
    "drop_features(test)"
   ]
  },
  {
   "cell_type": "markdown",
   "metadata": {},
   "source": [
    "## Wrapper Methods"
   ]
  },
  {
   "cell_type": "markdown",
   "metadata": {},
   "source": [
    "### Decision Tree "
   ]
  },
  {
   "cell_type": "code",
   "execution_count": 125,
   "metadata": {},
   "outputs": [],
   "source": [
    "gini_importance = DecisionTreeClassifier().fit(X_train, y_train).feature_importances_"
   ]
  },
  {
   "cell_type": "code",
   "execution_count": 189,
   "metadata": {},
   "outputs": [
    {
     "data": {
      "image/png": "[encoded data removed]",
      "text/plain": [
       "<Figure size 1500x800 with 1 Axes>"
      ]
     },
     "metadata": {},
     "output_type": "display_data"
    }
   ],
   "source": [
    "zippy = pd.DataFrame(zip(gini_importance), columns=['gini'])\n",
    "zippy['col'] = X_train.columns\n",
    "tidy = zippy.melt(id_vars='col').rename(columns={'col': 'Variable', 'value': 'Value'})\n",
    "\n",
    "# Sort the DataFrame by Gini importance in descending order\n",
    "tidy.sort_values(['Value'], ascending=False, inplace=True)\n",
    "\n",
    "# Plotting using Seaborn\n",
    "plt.figure(figsize=(15, 8))\n",
    "sns.barplot(y='Variable', x='Value', data=tidy)\n",
    "plt.title('Gini Importance for Features')\n",
    "plt.xlabel('Gini Importance')\n",
    "plt.ylabel('Feature')\n",
    "plt.show()"
   ]
  },
  {
   "cell_type": "markdown",
   "metadata": {},
   "source": [
    "https://datascience.stackexchange.com/questions/116549/decision-tree-vs-logistic-regression-feature-importances\n",
    "\n",
    "Para explicar"
   ]
  },
  {
   "cell_type": "markdown",
   "metadata": {},
   "source": [
    "### KBest (Mutual Information)"
   ]
  },
  {
   "cell_type": "code",
   "execution_count": 205,
   "metadata": {},
   "outputs": [
    {
     "data": {
      "text/plain": [
       "Index(['age', 'has_insurance', 'outpatient_visits_in_previous_year',\n",
       "       'emergency_visits_in_previous_year',\n",
       "       'inpatient_visits_in_previous_year', 'medical_specialty',\n",
       "       'length_of_stay_in_hospital', 'non_lab_procedures',\n",
       "       'secondary_diagnosis', 'number_diagnoses', 'glucose_test_result',\n",
       "       'a1c_test_result', 'num_medication', 'is_inpatient', 'visit_count'],\n",
       "      dtype='object')"
      ]
     },
     "execution_count": 205,
     "metadata": {},
     "output_type": "execute_result"
    }
   ],
   "source": [
    "# Assuming X_train is your DataFrame with features and y_train['readmitted_binary'] is the target variable\n",
    "# You may need to encode categorical variables appropriately before using mutual_info_classif\n",
    "\n",
    "# List of features (numerical and/or encoded categorical)\n",
    "features = X_train.columns\n",
    "\n",
    "# Calculate mutual information for each feature with the target variable\n",
    "mutual_info_scores = mutual_info_classif(X_train, y_train.values.ravel())\n",
    "\n",
    "# Create a DataFrame to display the results\n",
    "mutual_info_df = pd.DataFrame({'Feature': features, 'Mutual_Information': mutual_info_scores})\n",
    "\n",
    "# Display the results, sorted by mutual information score\n",
    "mutual_info_df = mutual_info_df.sort_values(by='Mutual_Information', ascending=False)\n",
    "\n",
    "sel_cols = SelectKBest(mutual_info_classif, k=15)\n",
    "sel_cols.fit(X_train, y_train.values.ravel())\n",
    "cols=X_train.columns[sel_cols.get_support()]\n",
    "cols"
   ]
  },
  {
   "cell_type": "markdown",
   "metadata": {},
   "source": [
    "### Gradient Boosting "
   ]
  },
  {
   "cell_type": "code",
   "execution_count": 128,
   "metadata": {},
   "outputs": [
    {
     "name": "stdout",
     "output_type": "stream",
     "text": [
      "age: 0.012948782719843874\n",
      "has_insurance: 0.02272193352141866\n",
      "outpatient_visits_in_previous_year: 0.010652094086261062\n",
      "emergency_visits_in_previous_year: 0.01002280161148114\n",
      "inpatient_visits_in_previous_year: 0.1557957738606961\n",
      "medical_specialty: 0.006791645940302672\n",
      "discharged_home: 0.061576605389488795\n",
      "admission_source: 0.0029902564102541516\n",
      "length_of_stay_in_hospital: 0.019508333785774493\n",
      "number_lab_tests: 0.016361306768029542\n",
      "non_lab_procedures: 0.006298254027617831\n",
      "number_of_medications: 0.014425735187230516\n",
      "primary_diagnosis: 0.010513480389183255\n",
      "secondary_diagnosis: 0.012950832402796994\n",
      "additional_diagnosis: 0.013197380263807087\n",
      "number_diagnoses: 0.01173967933945588\n",
      "glucose_test_result: 0.0008718060464818982\n",
      "a1c_test_result: 0.0032624228834535834\n",
      "num_medication: 0.01190983111661392\n",
      "metformin: 0.010975331953452131\n",
      "insulin: 0.0005819484590834005\n",
      "is_inpatient: 0.0007083949510268691\n",
      "race_Caucasian: 0.0025783011056279472\n",
      "race_Other: 0.0021585507953900463\n",
      "visit_count: 0.5784585169852281\n",
      "\n",
      "Top-7 features: ['visit_count', 'inpatient_visits_in_previous_year', 'discharged_home', 'has_insurance', 'length_of_stay_in_hospital', 'number_lab_tests', 'number_of_medications']\n"
     ]
    }
   ],
   "source": [
    "# Create a Gradient Boosting Classifier\n",
    "gb_classifier = GradientBoostingClassifier(random_state=42)\n",
    "\n",
    "# Fit the model to the training data\n",
    "gb_classifier.fit(X_train, y_train.values.ravel())\n",
    "\n",
    "# Get feature importances\n",
    "feature_importances = gb_classifier.feature_importances_\n",
    "\n",
    "# Display feature importances\n",
    "for feature, importance in zip(X_train.columns, feature_importances):\n",
    "    print(f\"{feature}: {importance}\")\n",
    "\n",
    "# Select the top-k most important features\n",
    "k = 7\n",
    "top_k_features = np.array(X_train.columns)[np.argsort(feature_importances)[::-1][:k]]\n",
    "print(f\"\\nTop-{k} features: {top_k_features.tolist()}\")"
   ]
  },
  {
   "cell_type": "markdown",
   "metadata": {},
   "source": [
    "escolhemos as melhores 7 pq tendo em conta a importancia das features é o que faz mais sentido"
   ]
  },
  {
   "cell_type": "markdown",
   "metadata": {},
   "source": [
    "### Sequential Forward Selection - Random Forest (with Cross Validation)"
   ]
  },
  {
   "cell_type": "code",
   "execution_count": 129,
   "metadata": {},
   "outputs": [
    {
     "name": "stdout",
     "output_type": "stream",
     "text": [
      "Selected Features:\n",
      "Index(['has_insurance', 'inpatient_visits_in_previous_year',\n",
      "       'medical_specialty', 'discharged_home', 'glucose_test_result',\n",
      "       'num_medication', 'metformin', 'insulin', 'race_Caucasian',\n",
      "       'race_Other', 'visit_count'],\n",
      "      dtype='object')\n"
     ]
    },
    {
     "ename": "AttributeError",
     "evalue": "'SequentialFeatureSelector' object has no attribute 'best_score_'",
     "output_type": "error",
     "traceback": [
      "\u001b[0;31m---------------------------------------------------------------------------\u001b[0m",
      "\u001b[0;31mAttributeError\u001b[0m                            Traceback (most recent call last)",
      "Cell \u001b[0;32mIn[129], line 31\u001b[0m\n\u001b[1;32m     28\u001b[0m \u001b[38;5;28mprint\u001b[39m(\u001b[38;5;124m\"\u001b[39m\u001b[38;5;124mSelected Features:\u001b[39m\u001b[38;5;124m\"\u001b[39m)\n\u001b[1;32m     29\u001b[0m \u001b[38;5;28mprint\u001b[39m(selected_features)\n\u001b[0;32m---> 31\u001b[0m \u001b[38;5;28mprint\u001b[39m(\u001b[38;5;124m'\u001b[39m\u001b[38;5;124mBest F1 Score:\u001b[39m\u001b[38;5;124m'\u001b[39m, \u001b[43msfs\u001b[49m\u001b[38;5;241;43m.\u001b[39;49m\u001b[43mbest_score_\u001b[49m)\n",
      "\u001b[0;31mAttributeError\u001b[0m: 'SequentialFeatureSelector' object has no attribute 'best_score_'"
     ]
    }
   ],
   "source": [
    "X = pd.concat([X_train, X_val])\n",
    "y = pd.concat([y_train, y_val])\n",
    "\n",
    "X_array = X.to_numpy()\n",
    "y_array = y.values.ravel()\n",
    "\n",
    "clf = RandomForestClassifier(n_estimators=100, random_state=42)\n",
    "\n",
    "sfs = SequentialFeatureSelector(\n",
    "    clf,\n",
    "    n_features_to_select=11,\n",
    "    direction='forward',\n",
    "    cv=StratifiedKFold(n_splits=5, shuffle=True, random_state=42),\n",
    "    scoring='f1',\n",
    ")\n",
    "\n",
    "sfs.fit(X_array, y_array)\n",
    "\n",
    "selected_features = X_train.columns[sfs.support_]\n",
    "\n",
    "# Print the selected features\n",
    "print(\"Selected Features:\")\n",
    "print(selected_features)"
   ]
  },
  {
   "cell_type": "markdown",
   "metadata": {},
   "source": [
    "### Sequential Backward Selection - Random Forest (with Cross Validation)"
   ]
  },
  {
   "cell_type": "code",
   "execution_count": 130,
   "metadata": {},
   "outputs": [
    {
     "name": "stdout",
     "output_type": "stream",
     "text": [
      "Selected Features:\n",
      "Index(['outpatient_visits_in_previous_year',\n",
      "       'emergency_visits_in_previous_year',\n",
      "       'inpatient_visits_in_previous_year', 'medical_specialty',\n",
      "       'discharged_home', 'length_of_stay_in_hospital', 'number_lab_tests',\n",
      "       'number_of_medications', 'primary_diagnosis', 'secondary_diagnosis',\n",
      "       'additional_diagnosis', 'number_diagnoses', 'a1c_test_result',\n",
      "       'num_medication', 'visit_count'],\n",
      "      dtype='object')\n"
     ]
    }
   ],
   "source": [
    "X = pd.concat([X_train, X_val])\n",
    "y = pd.concat([y_train, y_val])\n",
    "\n",
    "X_array = X.to_numpy()\n",
    "y_array = y.values.ravel()  # ravel(): Return a contiguous flattened array; Ensure that it's a 1D array\n",
    "\n",
    "# Create a RandomForestClassifier\n",
    "clf = RandomForestClassifier(n_estimators=100, random_state=42)\n",
    "\n",
    "# Create a SequentialFeatureSelector with cross-validation\n",
    "sfs = SequentialFeatureSelector(\n",
    "    clf,\n",
    "    n_features_to_select=15,  # Specify the number of features to select\n",
    "    direction='backward',\n",
    "    cv=StratifiedKFold(n_splits=5, shuffle=True, random_state=42),  # Specify the cross-validation strategy\n",
    "    scoring='f1',  # Choose an appropriate scoring metric\n",
    ")\n",
    "\n",
    "# Fit the SequentialFeatureSelector on the training data\n",
    "sfs.fit(X_array, y_array)\n",
    "\n",
    "# Get the selected features and their indices\n",
    "selected_features = X_train.columns[sfs.support_]\n",
    "selected_indices = sfs.support_\n",
    "\n",
    "# Print the selected features\n",
    "print(\"Selected Features:\")\n",
    "print(selected_features)"
   ]
  },
  {
   "cell_type": "markdown",
   "metadata": {},
   "source": [
    "### Recursive Feature Elimination -  Logistic Regression"
   ]
  },
  {
   "cell_type": "code",
   "execution_count": 204,
   "metadata": {},
   "outputs": [
    {
     "name": "stdout",
     "output_type": "stream",
     "text": [
      "Optimal number of features: 14\n",
      "F1 score with 14 features: 0.272580\n",
      "Features to select:\n",
      "age                                    True\n",
      "has_insurance                          True\n",
      "outpatient_visits_in_previous_year    False\n",
      "emergency_visits_in_previous_year      True\n",
      "inpatient_visits_in_previous_year      True\n",
      "medical_specialty                     False\n",
      "discharged_home                        True\n",
      "admission_source                       True\n",
      "length_of_stay_in_hospital            False\n",
      "number_lab_tests                       True\n",
      "non_lab_procedures                    False\n",
      "number_of_medications                  True\n",
      "primary_diagnosis                     False\n",
      "secondary_diagnosis                   False\n",
      "additional_diagnosis                   True\n",
      "number_diagnoses                       True\n",
      "glucose_test_result                   False\n",
      "a1c_test_result                       False\n",
      "num_medication                         True\n",
      "metformin                              True\n",
      "insulin                               False\n",
      "is_inpatient                          False\n",
      "race_Caucasian                        False\n",
      "race_Other                             True\n",
      "visit_count                            True\n",
      "dtype: bool\n"
     ]
    }
   ],
   "source": [
    "from sklearn.feature_selection import RFE\n",
    "from sklearn.linear_model import LogisticRegression\n",
    "from sklearn.metrics import f1_score\n",
    "\n",
    "nof_list = np.arange(2, 20)            \n",
    "high_f1_score = 0\n",
    "optimal_nof = 0           \n",
    "train_f1_score_list = []\n",
    "val_f1_score_list = []\n",
    "\n",
    "for n in range(len(nof_list)):\n",
    "    model = LogisticRegression()\n",
    "    \n",
    "    rfe = RFE(estimator=model, n_features_to_select=nof_list[n])\n",
    "    X_train_rfe = rfe.fit_transform(X_train, y_train)\n",
    "    X_val_rfe = rfe.transform(X_val)\n",
    "    model.fit(X_train_rfe, y_train)\n",
    "    \n",
    "    # Store results on training data\n",
    "    train_predictions = model.predict(X_train_rfe)\n",
    "    train_f1_score = f1_score(y_train, train_predictions)\n",
    "    train_f1_score_list.append(train_f1_score)\n",
    "    \n",
    "    # Store results on validation data\n",
    "    val_predictions = model.predict(X_val_rfe)\n",
    "    val_f1_score = f1_score(y_val, val_predictions)\n",
    "    val_f1_score_list.append(val_f1_score)\n",
    "    \n",
    "    # Check best F1 score\n",
    "    if val_f1_score >= high_f1_score:\n",
    "        high_f1_score = val_f1_score\n",
    "        optimal_nof = nof_list[n]\n",
    "        features_to_select = pd.Series(rfe.support_, index=X_train.columns)\n",
    "\n",
    "print(\"Optimal number of features: %d\" % optimal_nof)\n",
    "print(\"F1 score with %d features: %f\" % (optimal_nof, high_f1_score))\n",
    "print(f\"Features to select:\\n{features_to_select}\")\n"
   ]
  },
  {
   "cell_type": "markdown",
   "metadata": {},
   "source": [
    "### Recursive Feature Elimination -  Logistic Regression (with Cross Validation)"
   ]
  },
  {
   "cell_type": "markdown",
   "metadata": {},
   "source": [
    "This implementation uses cross-validation during model training AND automatically finds the optimal number of features."
   ]
  },
  {
   "cell_type": "code",
   "execution_count": 132,
   "metadata": {},
   "outputs": [
    {
     "name": "stdout",
     "output_type": "stream",
     "text": [
      "Optimal number of features: 24\n",
      "F1 scores for each feature subset:\n",
      "[0.39734236 0.40429985 0.40571632 0.40179536 0.40937261 0.41319168\n",
      " 0.41441643 0.41640318 0.41575403 0.41549505 0.4154092  0.41778085\n",
      " 0.41648757 0.41673486 0.41621429 0.41910826 0.41896019 0.4188773\n",
      " 0.41868708 0.41873653 0.4194275  0.41951776 0.41950333]\n",
      "Selected features: ['age', 'has_insurance', 'outpatient_visits_in_previous_year', 'emergency_visits_in_previous_year', 'inpatient_visits_in_previous_year', 'medical_specialty', 'discharged_home', 'admission_source', 'length_of_stay_in_hospital', 'number_lab_tests', 'non_lab_procedures', 'number_of_medications', 'primary_diagnosis', 'additional_diagnosis', 'number_diagnoses', 'glucose_test_result', 'a1c_test_result', 'num_medication', 'metformin', 'insulin', 'is_inpatient', 'race_Caucasian', 'race_Other', 'visit_count']\n"
     ]
    }
   ],
   "source": [
    "# logr = LogisticRegression()\n",
    "# cv = StratifiedKFold(8)\n",
    "\n",
    "# X = pd.concat([X_train, X_val])\n",
    "# y = pd.concat([y_train, y_val])\n",
    "\n",
    "# X_array = X.to_numpy()\n",
    "# y_array = y.values.ravel()\n",
    "\n",
    "# rfecv = RFECV(\n",
    "#     estimator=logr,\n",
    "#     step=1,  # how many features are removed at each iteration\n",
    "#     cv=cv,\n",
    "#     scoring=\"f1\",\n",
    "#     min_features_to_select=3,\n",
    "#     n_jobs=2,\n",
    "# )\n",
    "# rfecv.fit(X_array, y_array)\n",
    "\n",
    "# print(f\"Optimal number of features: {rfecv.n_features_}\")\n",
    "\n",
    "# # Print F1 scores for each feature subset\n",
    "# print(\"F1 scores for each feature subset:\")\n",
    "# print(rfecv.cv_results_['mean_test_score'])\n",
    "\n",
    "# # Print selected features\n",
    "# selected_features = np.array(X_train.columns)[rfecv.support_]\n",
    "# print(\"Selected features:\", selected_features.tolist())"
   ]
  },
  {
   "cell_type": "markdown",
   "metadata": {},
   "source": [
    "# Model Analysis\n"
   ]
  },
  {
   "cell_type": "code",
   "execution_count": 215,
   "metadata": {},
   "outputs": [],
   "source": [
    "X_train_select = X_train.copy()\n",
    "X_val_select = X_val.copy()\n",
    "test_select = test.copy()"
   ]
  },
  {
   "cell_type": "code",
   "execution_count": 216,
   "metadata": {},
   "outputs": [],
   "source": [
    "selected_features = ['visit_count', 'number_lab_tests', 'number_of_medications', \n",
    "                    'length_of_stay_in_hospital', 'inpatient_visits_in_previous_year',\n",
    "                    'number_diagnoses', 'medical_specialty', 'num_medication',\n",
    "                    'discharged_home', 'has_insurance', 'emergency_visits_in_previous_year'\n",
    "                     ]\n",
    "\n",
    "X_train_select=X_train_select[selected_features]\n",
    "X_val_select=X_val_select[selected_features]\n",
    "test_select=test_select[selected_features]"
   ]
  },
  {
   "cell_type": "markdown",
   "metadata": {},
   "source": [
    "## Logistic Regression"
   ]
  },
  {
   "cell_type": "markdown",
   "metadata": {},
   "source": [
    "The confusion matrix in sklearn is presented in the following format: <br>\n",
    "[ [ TN  FP  ] <br>\n",
    "    [ FN  TP ] ]"
   ]
  },
  {
   "cell_type": "code",
   "execution_count": 623,
   "metadata": {},
   "outputs": [
    {
     "name": "stdout",
     "output_type": "stream",
     "text": [
      "[[10846  1812]\n",
      " [ 1056   534]] \n",
      "\n",
      "F1 score: 0.2713\n"
     ]
    }
   ],
   "source": [
    "log_model = LogisticRegression(random_state=42)\n",
    "lm=log_model.fit(X_train_select, y_train)\n",
    "\n",
    "y_pred = lm.predict(X_val_select)\n",
    "\n",
    "cm = confusion_matrix(y_val, y_pred)\n",
    "print(cm, '\\n')\n",
    "\n",
    "f1 = round(f1_score(y_val, y_pred), 4)\n",
    "print(f'F1 score: {f1}')"
   ]
  },
  {
   "cell_type": "markdown",
   "metadata": {},
   "source": [
    "## SVM"
   ]
  },
  {
   "cell_type": "code",
   "execution_count": 624,
   "metadata": {},
   "outputs": [
    {
     "name": "stdout",
     "output_type": "stream",
     "text": [
      "F1 Score: 0.2897\n"
     ]
    }
   ],
   "source": [
    "svm_model = SVC(random_state=42)\n",
    "\n",
    "svm=svm_model.fit(X_train_select, y_train)\n",
    "\n",
    "y_pred = svm_model.predict(X_val_select)\n",
    "\n",
    "f1 = round(f1_score(y_val,y_pred), 4)\n",
    "print(f'F1 Score: {f1}')"
   ]
  },
  {
   "cell_type": "markdown",
   "metadata": {},
   "source": [
    "## Neural Networks"
   ]
  },
  {
   "cell_type": "code",
   "execution_count": 196,
   "metadata": {},
   "outputs": [
    {
     "name": "stdout",
     "output_type": "stream",
     "text": [
      "F1 Score: 0.2907\n"
     ]
    }
   ],
   "source": [
    "clf = MLPClassifier(random_state=42)\n",
    "\n",
    "nn=clf.fit(X_train_select, y_train)\n",
    "\n",
    "y_pred = nn.predict(X_val_select)\n",
    "\n",
    "f1 = round(f1_score(y_val,y_pred), 4)\n",
    "print(f'F1 Score: {f1}')"
   ]
  },
  {
   "cell_type": "markdown",
   "metadata": {},
   "source": [
    "## Decision Trees"
   ]
  },
  {
   "cell_type": "code",
   "execution_count": 626,
   "metadata": {},
   "outputs": [
    {
     "name": "stdout",
     "output_type": "stream",
     "text": [
      "F1 Score: 0.2175\n"
     ]
    }
   ],
   "source": [
    "clf_model = DecisionTreeClassifier(random_state=42)\n",
    "\n",
    "clf=clf_model.fit(X_train_select, y_train)\n",
    "\n",
    "y_pred = clf.predict(X_val_select)\n",
    "\n",
    "f1 = round(f1_score(y_val, y_pred), 4)\n",
    "print(f\"F1 Score: {f1}\")"
   ]
  },
  {
   "cell_type": "markdown",
   "metadata": {},
   "source": [
    "# Embedded "
   ]
  },
  {
   "cell_type": "markdown",
   "metadata": {},
   "source": [
    "## Boosting"
   ]
  },
  {
   "cell_type": "markdown",
   "metadata": {},
   "source": [
    "### Gradient Boosting"
   ]
  },
  {
   "cell_type": "code",
   "execution_count": 627,
   "metadata": {},
   "outputs": [
    {
     "name": "stdout",
     "output_type": "stream",
     "text": [
      "F1 Score: 0.2887\n"
     ]
    }
   ],
   "source": [
    "gb = GradientBoostingClassifier(random_state=42)\n",
    "\n",
    "gbc = gb.fit(X_train_select, y_train)\n",
    "\n",
    "y_pred = gbc.predict(X_val_select)\n",
    "\n",
    "\n",
    "f1 = round(f1_score(y_val, y_pred), 4)\n",
    "print(f\"F1 Score: {f1}\")"
   ]
  },
  {
   "cell_type": "markdown",
   "metadata": {},
   "source": [
    "### Bagging  (Decision Trees)"
   ]
  },
  {
   "cell_type": "code",
   "execution_count": 578,
   "metadata": {},
   "outputs": [
    {
     "name": "stdout",
     "output_type": "stream",
     "text": [
      "F1 Score: 0.2443\n"
     ]
    }
   ],
   "source": [
    "bagging = BaggingClassifier(random_state=42)\n",
    "\n",
    "#bagging = BaggingClassifier(random_state=30, bootstrap=True, n_estimators=150, max_samples=0.1, bootstrap_features=False, oob_score=True)\n",
    "\n",
    "bagg = bagging.fit(X_train_select, y_train)\n",
    "\n",
    "y_pred = bagg.predict(X_val_select)\n",
    "\n",
    "f1 = round(f1_score(y_val, y_pred), 4)\n",
    "print(f\"F1 Score: {f1}\")"
   ]
  },
  {
   "cell_type": "markdown",
   "metadata": {},
   "source": [
    "### Random Forest"
   ]
  },
  {
   "cell_type": "code",
   "execution_count": 579,
   "metadata": {},
   "outputs": [
    {
     "name": "stdout",
     "output_type": "stream",
     "text": [
      "F1 Score: 0.2678\n"
     ]
    }
   ],
   "source": [
    "rf_model = RandomForestClassifier(random_state=42)\n",
    "\n",
    "#rf_model = RandomForestClassifier(n_estimators=250, bootstrap=True, max_samples=0.3, max_depth=10, oob_score=True, max_features='sqrt', random_state=49)\n",
    "\n",
    "rf=rf_model.fit(X_train_select, y_train)\n",
    "\n",
    "y_pred = rf.predict(X_val_select)\n",
    "\n",
    "f1 = round(f1_score(y_val,y_pred), 4)\n",
    "print(f'F1 Score: {f1}')"
   ]
  },
  {
   "cell_type": "code",
   "execution_count": 580,
   "metadata": {},
   "outputs": [
    {
     "name": "stdout",
     "output_type": "stream",
     "text": [
      "Ensemble Model F1 Score: 0.2876\n"
     ]
    }
   ],
   "source": [
    "from sklearn.ensemble import VotingClassifier\n",
    "\n",
    "# Define individual classifiers\n",
    "dt_model = DecisionTreeClassifier(random_state=42)\n",
    "rf_model = RandomForestClassifier(random_state=42)\n",
    "gb_model = GradientBoostingClassifier(random_state=42)\n",
    "svm_model = SVC(probability=True, kernel='linear', random_state=42) \n",
    "nn_model = MLPClassifier(random_state=42)\n",
    "logreg_model = LogisticRegression(random_state=42)\n",
    "\n",
    "voting_classifier = VotingClassifier(\n",
    "    estimators=[\n",
    "        ('DecisionTree', dt_model),\n",
    "        ('RandomForest', rf_model),\n",
    "        ('GradientBoosting', gb_model),\n",
    "        ('SVM', svm_model),\n",
    "        ('NeuralNetwork', nn_model),\n",
    "        ('LogisticRegression', logreg_model)\n",
    "    ],\n",
    "    voting='hard'  # 'hard': majority voting\n",
    ")\n",
    "\n",
    "voting_classifier.fit(X_train_select, y_train)\n",
    "\n",
    "y_pred = voting_classifier.predict(X_val_select)\n",
    "\n",
    "f1 = f1_score(y_val, y_pred)\n",
    "\n",
    "print(f\"Ensemble Model F1 Score: {f1:.4f}\")\n"
   ]
  },
  {
   "cell_type": "markdown",
   "metadata": {},
   "source": [
    "# Optimizing"
   ]
  },
  {
   "cell_type": "code",
   "execution_count": 217,
   "metadata": {},
   "outputs": [],
   "source": [
    "X_train = X_train_select\n",
    "X_val = X_val_select\n",
    "test = test_select"
   ]
  },
  {
   "cell_type": "markdown",
   "metadata": {},
   "source": [
    "## Logistic Regrssion"
   ]
  },
  {
   "cell_type": "code",
   "execution_count": null,
   "metadata": {},
   "outputs": [],
   "source": [
    "param_grid_lr = {\n",
    "    'C': [0.001, 0.01, 0.1, 1, 10, 100],\n",
    "    'penalty': ['l2'],  \n",
    "    'solver': ['lbfgs']\n",
    "}"
   ]
  },
  {
   "cell_type": "code",
   "execution_count": null,
   "metadata": {},
   "outputs": [],
   "source": [
    "lr = LogisticRegression(random_state=42)\n",
    "grid_search_lr = GridSearchCV(estimator=lr, param_grid=param_grid_lr, cv=5, scoring='f1', n_jobs=-1, error_score='raise')\n",
    "grid_search_lr.fit(X_train, y_train)\n",
    "best_params_lr = grid_search_lr.best_params_"
   ]
  },
  {
   "cell_type": "code",
   "execution_count": null,
   "metadata": {},
   "outputs": [],
   "source": [
    "best_model_lr = LogisticRegression(**best_params_lr, random_state=42)\n",
    "best_model_lr.fit(X_train, y_train)\n",
    "y_pred_lr = best_model_lr.predict(X_val)\n",
    "accuracy_lr = accuracy_score(y_val, y_pred_lr)\n",
    "f1_lm = f1_score(y_val, y_pred_lr)\n",
    "print(\"Logistic Regression - Best Parameters:\", best_params_lr)\n",
    "print(\"Logistic Regression - Accuracy:\", accuracy_lr)\n",
    "print(\"Logistic Regression - F1 Score:\", f1_lm)"
   ]
  },
  {
   "cell_type": "markdown",
   "metadata": {},
   "source": [
    "## SVM"
   ]
  },
  {
   "cell_type": "code",
   "execution_count": 189,
   "metadata": {},
   "outputs": [],
   "source": [
    "param_grid_svm = {'C': [0.1, 1, 10, 100, 1000],  \n",
    "              'gamma': [1, 0.1, 0.01, 0.001, 0.0001], \n",
    "              'kernel': ['linear','rbf']}  "
   ]
  },
  {
   "cell_type": "code",
   "execution_count": 190,
   "metadata": {},
   "outputs": [],
   "source": [
    "svm = SVC(random_state=42)\n",
    "grid_search_svm = GridSearchCV(estimator=svm, param_grid=param_grid_svm, cv=5, scoring='f1')\n",
    "grid_search_svm.fit(X_train, y_train)\n",
    "best_params_svm = grid_search_svm.best_params_"
   ]
  },
  {
   "cell_type": "code",
   "execution_count": 191,
   "metadata": {},
   "outputs": [
    {
     "name": "stdout",
     "output_type": "stream",
     "text": [
      "SVM - Best Parameters: {'C': 1, 'gamma': 1, 'kernel': 'rbf'}\n",
      "SVM - Accuracy: 0.7669146546883773\n",
      "Random Forest - F1 Score: 0.2905362102114933\n"
     ]
    }
   ],
   "source": [
    "best_model_svm = SVC(**best_params_svm, random_state=42)\n",
    "best_model_svm.fit(X_train, y_train)\n",
    "y_pred_svm = best_model_svm.predict(X_val)\n",
    "accuracy_svm = accuracy_score(y_val, y_pred_svm)\n",
    "f1_svm = f1_score(y_val, y_pred_svm)\n",
    "print(\"SVM - Best Parameters:\", best_params_svm)\n",
    "print(\"SVM - Accuracy:\", accuracy_svm)\n",
    "print(\"Random Forest - F1 Score:\", f1_svm)"
   ]
  },
  {
   "cell_type": "markdown",
   "metadata": {},
   "source": [
    "## Neural Networks"
   ]
  },
  {
   "cell_type": "code",
   "execution_count": 198,
   "metadata": {},
   "outputs": [],
   "source": [
    "param_grid_nn = {\n",
    "    'hidden_layer_sizes': [(50,), (100,), (50, 50)],\n",
    "    'activation': ['relu', 'tanh'],\n",
    "    'alpha': [0.0001, 0.001, 0.01],\n",
    "    'solver': ['adam', 'lbfgs', 'sgd']\n",
    "}\n"
   ]
  },
  {
   "cell_type": "code",
   "execution_count": 199,
   "metadata": {},
   "outputs": [],
   "source": [
    "nn = MLPClassifier(random_state=42)\n",
    "grid_search_nn = GridSearchCV(estimator=nn, param_grid=param_grid_nn, cv=5, scoring='f1')\n",
    "grid_search_nn.fit(X_train, y_train)\n",
    "best_params_nn = grid_search_nn.best_params_"
   ]
  },
  {
   "cell_type": "code",
   "execution_count": 200,
   "metadata": {},
   "outputs": [
    {
     "name": "stdout",
     "output_type": "stream",
     "text": [
      "Neural Network - Best Parameters: {'activation': 'relu', 'alpha': 0.01, 'hidden_layer_sizes': (50,), 'solver': 'adam'}\n",
      "Neural Network - Accuracy: 0.7575800112296462\n",
      "Random Forest - F1 Score: 0.28959276018099545\n"
     ]
    }
   ],
   "source": [
    "best_model_nn = MLPClassifier(**best_params_nn, random_state=42)\n",
    "best_model_nn.fit(X_train, y_train)\n",
    "y_pred_nn = best_model_nn.predict(X_val)\n",
    "accuracy_nn = accuracy_score(y_val, y_pred_nn)\n",
    "f1_nn = f1_score(y_val, y_pred_nn)\n",
    "print(\"Neural Network - Best Parameters:\", best_params_nn)\n",
    "print(\"Neural Network - Accuracy:\", accuracy_nn)\n",
    "print(\"Random Forest - F1 Score:\", f1_nn)"
   ]
  },
  {
   "cell_type": "markdown",
   "metadata": {},
   "source": [
    "## Decision Tree - Bagging"
   ]
  },
  {
   "cell_type": "code",
   "execution_count": null,
   "metadata": {},
   "outputs": [],
   "source": [
    "# Define the parameter grid for Decision Tree with Bagging\n",
    "param_grid_bagging_dt = {\n",
    "    'n_estimators': [50, 100, 150, 200],\n",
    "    'max_samples': [0.2,0.4,0.6,0.8,1.0],\n",
    "    'bootstrap': [True, False],\n",
    "    'bootstrap_features': [True, False]\n",
    "}"
   ]
  },
  {
   "cell_type": "code",
   "execution_count": null,
   "metadata": {},
   "outputs": [
    {
     "name": "stderr",
     "output_type": "stream",
     "text": [
      "/Users/maria/anaconda3/envs/DM2324_1/lib/python3.11/site-packages/sklearn/ensemble/_bagging.py:802: DataConversionWarning: A column-vector y was passed when a 1d array was expected. Please change the shape of y to (n_samples, ), for example using ravel().\n",
      "  y = column_or_1d(y, warn=True)\n",
      "/Users/maria/anaconda3/envs/DM2324_1/lib/python3.11/site-packages/sklearn/ensemble/_base.py:156: FutureWarning: `base_estimator` was renamed to `estimator` in version 1.2 and will be removed in 1.4.\n",
      "  warnings.warn(\n",
      "/Users/maria/anaconda3/envs/DM2324_1/lib/python3.11/site-packages/sklearn/ensemble/_bagging.py:802: DataConversionWarning: A column-vector y was passed when a 1d array was expected. Please change the shape of y to (n_samples, ), for example using ravel().\n",
      "  y = column_or_1d(y, warn=True)\n",
      "/Users/maria/anaconda3/envs/DM2324_1/lib/python3.11/site-packages/sklearn/ensemble/_base.py:156: FutureWarning: `base_estimator` was renamed to `estimator` in version 1.2 and will be removed in 1.4.\n",
      "  warnings.warn(\n",
      "/Users/maria/anaconda3/envs/DM2324_1/lib/python3.11/site-packages/sklearn/ensemble/_bagging.py:802: DataConversionWarning: A column-vector y was passed when a 1d array was expected. Please change the shape of y to (n_samples, ), for example using ravel().\n",
      "  y = column_or_1d(y, warn=True)\n",
      "/Users/maria/anaconda3/envs/DM2324_1/lib/python3.11/site-packages/sklearn/ensemble/_base.py:156: FutureWarning: `base_estimator` was renamed to `estimator` in version 1.2 and will be removed in 1.4.\n",
      "  warnings.warn(\n",
      "/Users/maria/anaconda3/envs/DM2324_1/lib/python3.11/site-packages/sklearn/ensemble/_bagging.py:802: DataConversionWarning: A column-vector y was passed when a 1d array was expected. Please change the shape of y to (n_samples, ), for example using ravel().\n",
      "  y = column_or_1d(y, warn=True)\n",
      "/Users/maria/anaconda3/envs/DM2324_1/lib/python3.11/site-packages/sklearn/ensemble/_base.py:156: FutureWarning: `base_estimator` was renamed to `estimator` in version 1.2 and will be removed in 1.4.\n",
      "  warnings.warn(\n",
      "/Users/maria/anaconda3/envs/DM2324_1/lib/python3.11/site-packages/sklearn/ensemble/_bagging.py:802: DataConversionWarning: A column-vector y was passed when a 1d array was expected. Please change the shape of y to (n_samples, ), for example using ravel().\n",
      "  y = column_or_1d(y, warn=True)\n",
      "/Users/maria/anaconda3/envs/DM2324_1/lib/python3.11/site-packages/sklearn/ensemble/_base.py:156: FutureWarning: `base_estimator` was renamed to `estimator` in version 1.2 and will be removed in 1.4.\n",
      "  warnings.warn(\n",
      "/Users/maria/anaconda3/envs/DM2324_1/lib/python3.11/site-packages/sklearn/ensemble/_bagging.py:802: DataConversionWarning: A column-vector y was passed when a 1d array was expected. Please change the shape of y to (n_samples, ), for example using ravel().\n",
      "  y = column_or_1d(y, warn=True)\n",
      "/Users/maria/anaconda3/envs/DM2324_1/lib/python3.11/site-packages/sklearn/ensemble/_base.py:156: FutureWarning: `base_estimator` was renamed to `estimator` in version 1.2 and will be removed in 1.4.\n",
      "  warnings.warn(\n",
      "/Users/maria/anaconda3/envs/DM2324_1/lib/python3.11/site-packages/sklearn/ensemble/_bagging.py:802: DataConversionWarning: A column-vector y was passed when a 1d array was expected. Please change the shape of y to (n_samples, ), for example using ravel().\n",
      "  y = column_or_1d(y, warn=True)\n",
      "/Users/maria/anaconda3/envs/DM2324_1/lib/python3.11/site-packages/sklearn/ensemble/_base.py:156: FutureWarning: `base_estimator` was renamed to `estimator` in version 1.2 and will be removed in 1.4.\n",
      "  warnings.warn(\n",
      "/Users/maria/anaconda3/envs/DM2324_1/lib/python3.11/site-packages/sklearn/ensemble/_bagging.py:802: DataConversionWarning: A column-vector y was passed when a 1d array was expected. Please change the shape of y to (n_samples, ), for example using ravel().\n",
      "  y = column_or_1d(y, warn=True)\n",
      "/Users/maria/anaconda3/envs/DM2324_1/lib/python3.11/site-packages/sklearn/ensemble/_base.py:156: FutureWarning: `base_estimator` was renamed to `estimator` in version 1.2 and will be removed in 1.4.\n",
      "  warnings.warn(\n",
      "/Users/maria/anaconda3/envs/DM2324_1/lib/python3.11/site-packages/sklearn/ensemble/_bagging.py:802: DataConversionWarning: A column-vector y was passed when a 1d array was expected. Please change the shape of y to (n_samples, ), for example using ravel().\n",
      "  y = column_or_1d(y, warn=True)\n",
      "/Users/maria/anaconda3/envs/DM2324_1/lib/python3.11/site-packages/sklearn/ensemble/_base.py:156: FutureWarning: `base_estimator` was renamed to `estimator` in version 1.2 and will be removed in 1.4.\n",
      "  warnings.warn(\n",
      "/Users/maria/anaconda3/envs/DM2324_1/lib/python3.11/site-packages/sklearn/ensemble/_bagging.py:802: DataConversionWarning: A column-vector y was passed when a 1d array was expected. Please change the shape of y to (n_samples, ), for example using ravel().\n",
      "  y = column_or_1d(y, warn=True)\n",
      "/Users/maria/anaconda3/envs/DM2324_1/lib/python3.11/site-packages/sklearn/ensemble/_base.py:156: FutureWarning: `base_estimator` was renamed to `estimator` in version 1.2 and will be removed in 1.4.\n",
      "  warnings.warn(\n",
      "/Users/maria/anaconda3/envs/DM2324_1/lib/python3.11/site-packages/sklearn/ensemble/_bagging.py:802: DataConversionWarning: A column-vector y was passed when a 1d array was expected. Please change the shape of y to (n_samples, ), for example using ravel().\n",
      "  y = column_or_1d(y, warn=True)\n",
      "/Users/maria/anaconda3/envs/DM2324_1/lib/python3.11/site-packages/sklearn/ensemble/_base.py:156: FutureWarning: `base_estimator` was renamed to `estimator` in version 1.2 and will be removed in 1.4.\n",
      "  warnings.warn(\n",
      "/Users/maria/anaconda3/envs/DM2324_1/lib/python3.11/site-packages/sklearn/ensemble/_bagging.py:802: DataConversionWarning: A column-vector y was passed when a 1d array was expected. Please change the shape of y to (n_samples, ), for example using ravel().\n",
      "  y = column_or_1d(y, warn=True)\n",
      "/Users/maria/anaconda3/envs/DM2324_1/lib/python3.11/site-packages/sklearn/ensemble/_base.py:156: FutureWarning: `base_estimator` was renamed to `estimator` in version 1.2 and will be removed in 1.4.\n",
      "  warnings.warn(\n",
      "/Users/maria/anaconda3/envs/DM2324_1/lib/python3.11/site-packages/sklearn/ensemble/_bagging.py:802: DataConversionWarning: A column-vector y was passed when a 1d array was expected. Please change the shape of y to (n_samples, ), for example using ravel().\n",
      "  y = column_or_1d(y, warn=True)\n",
      "/Users/maria/anaconda3/envs/DM2324_1/lib/python3.11/site-packages/sklearn/ensemble/_base.py:156: FutureWarning: `base_estimator` was renamed to `estimator` in version 1.2 and will be removed in 1.4.\n",
      "  warnings.warn(\n",
      "/Users/maria/anaconda3/envs/DM2324_1/lib/python3.11/site-packages/sklearn/ensemble/_bagging.py:802: DataConversionWarning: A column-vector y was passed when a 1d array was expected. Please change the shape of y to (n_samples, ), for example using ravel().\n",
      "  y = column_or_1d(y, warn=True)\n",
      "/Users/maria/anaconda3/envs/DM2324_1/lib/python3.11/site-packages/sklearn/ensemble/_base.py:156: FutureWarning: `base_estimator` was renamed to `estimator` in version 1.2 and will be removed in 1.4.\n",
      "  warnings.warn(\n",
      "/Users/maria/anaconda3/envs/DM2324_1/lib/python3.11/site-packages/sklearn/ensemble/_bagging.py:802: DataConversionWarning: A column-vector y was passed when a 1d array was expected. Please change the shape of y to (n_samples, ), for example using ravel().\n",
      "  y = column_or_1d(y, warn=True)\n",
      "/Users/maria/anaconda3/envs/DM2324_1/lib/python3.11/site-packages/sklearn/ensemble/_base.py:156: FutureWarning: `base_estimator` was renamed to `estimator` in version 1.2 and will be removed in 1.4.\n",
      "  warnings.warn(\n",
      "/Users/maria/anaconda3/envs/DM2324_1/lib/python3.11/site-packages/sklearn/ensemble/_bagging.py:802: DataConversionWarning: A column-vector y was passed when a 1d array was expected. Please change the shape of y to (n_samples, ), for example using ravel().\n",
      "  y = column_or_1d(y, warn=True)\n",
      "/Users/maria/anaconda3/envs/DM2324_1/lib/python3.11/site-packages/sklearn/ensemble/_base.py:156: FutureWarning: `base_estimator` was renamed to `estimator` in version 1.2 and will be removed in 1.4.\n",
      "  warnings.warn(\n",
      "/Users/maria/anaconda3/envs/DM2324_1/lib/python3.11/site-packages/sklearn/ensemble/_bagging.py:802: DataConversionWarning: A column-vector y was passed when a 1d array was expected. Please change the shape of y to (n_samples, ), for example using ravel().\n",
      "  y = column_or_1d(y, warn=True)\n",
      "/Users/maria/anaconda3/envs/DM2324_1/lib/python3.11/site-packages/sklearn/ensemble/_base.py:156: FutureWarning: `base_estimator` was renamed to `estimator` in version 1.2 and will be removed in 1.4.\n",
      "  warnings.warn(\n",
      "/Users/maria/anaconda3/envs/DM2324_1/lib/python3.11/site-packages/sklearn/ensemble/_bagging.py:802: DataConversionWarning: A column-vector y was passed when a 1d array was expected. Please change the shape of y to (n_samples, ), for example using ravel().\n",
      "  y = column_or_1d(y, warn=True)\n",
      "/Users/maria/anaconda3/envs/DM2324_1/lib/python3.11/site-packages/sklearn/ensemble/_base.py:156: FutureWarning: `base_estimator` was renamed to `estimator` in version 1.2 and will be removed in 1.4.\n",
      "  warnings.warn(\n",
      "/Users/maria/anaconda3/envs/DM2324_1/lib/python3.11/site-packages/sklearn/ensemble/_bagging.py:802: DataConversionWarning: A column-vector y was passed when a 1d array was expected. Please change the shape of y to (n_samples, ), for example using ravel().\n",
      "  y = column_or_1d(y, warn=True)\n",
      "/Users/maria/anaconda3/envs/DM2324_1/lib/python3.11/site-packages/sklearn/ensemble/_base.py:156: FutureWarning: `base_estimator` was renamed to `estimator` in version 1.2 and will be removed in 1.4.\n",
      "  warnings.warn(\n",
      "/Users/maria/anaconda3/envs/DM2324_1/lib/python3.11/site-packages/sklearn/ensemble/_bagging.py:802: DataConversionWarning: A column-vector y was passed when a 1d array was expected. Please change the shape of y to (n_samples, ), for example using ravel().\n",
      "  y = column_or_1d(y, warn=True)\n",
      "/Users/maria/anaconda3/envs/DM2324_1/lib/python3.11/site-packages/sklearn/ensemble/_base.py:156: FutureWarning: `base_estimator` was renamed to `estimator` in version 1.2 and will be removed in 1.4.\n",
      "  warnings.warn(\n",
      "/Users/maria/anaconda3/envs/DM2324_1/lib/python3.11/site-packages/sklearn/ensemble/_bagging.py:802: DataConversionWarning: A column-vector y was passed when a 1d array was expected. Please change the shape of y to (n_samples, ), for example using ravel().\n",
      "  y = column_or_1d(y, warn=True)\n",
      "/Users/maria/anaconda3/envs/DM2324_1/lib/python3.11/site-packages/sklearn/ensemble/_base.py:156: FutureWarning: `base_estimator` was renamed to `estimator` in version 1.2 and will be removed in 1.4.\n",
      "  warnings.warn(\n",
      "/Users/maria/anaconda3/envs/DM2324_1/lib/python3.11/site-packages/sklearn/ensemble/_bagging.py:802: DataConversionWarning: A column-vector y was passed when a 1d array was expected. Please change the shape of y to (n_samples, ), for example using ravel().\n",
      "  y = column_or_1d(y, warn=True)\n",
      "/Users/maria/anaconda3/envs/DM2324_1/lib/python3.11/site-packages/sklearn/ensemble/_base.py:156: FutureWarning: `base_estimator` was renamed to `estimator` in version 1.2 and will be removed in 1.4.\n",
      "  warnings.warn(\n",
      "/Users/maria/anaconda3/envs/DM2324_1/lib/python3.11/site-packages/sklearn/ensemble/_bagging.py:802: DataConversionWarning: A column-vector y was passed when a 1d array was expected. Please change the shape of y to (n_samples, ), for example using ravel().\n",
      "  y = column_or_1d(y, warn=True)\n",
      "/Users/maria/anaconda3/envs/DM2324_1/lib/python3.11/site-packages/sklearn/ensemble/_base.py:156: FutureWarning: `base_estimator` was renamed to `estimator` in version 1.2 and will be removed in 1.4.\n",
      "  warnings.warn(\n",
      "/Users/maria/anaconda3/envs/DM2324_1/lib/python3.11/site-packages/sklearn/ensemble/_bagging.py:802: DataConversionWarning: A column-vector y was passed when a 1d array was expected. Please change the shape of y to (n_samples, ), for example using ravel().\n",
      "  y = column_or_1d(y, warn=True)\n",
      "/Users/maria/anaconda3/envs/DM2324_1/lib/python3.11/site-packages/sklearn/ensemble/_base.py:156: FutureWarning: `base_estimator` was renamed to `estimator` in version 1.2 and will be removed in 1.4.\n",
      "  warnings.warn(\n",
      "/Users/maria/anaconda3/envs/DM2324_1/lib/python3.11/site-packages/sklearn/ensemble/_bagging.py:802: DataConversionWarning: A column-vector y was passed when a 1d array was expected. Please change the shape of y to (n_samples, ), for example using ravel().\n",
      "  y = column_or_1d(y, warn=True)\n",
      "/Users/maria/anaconda3/envs/DM2324_1/lib/python3.11/site-packages/sklearn/ensemble/_base.py:156: FutureWarning: `base_estimator` was renamed to `estimator` in version 1.2 and will be removed in 1.4.\n",
      "  warnings.warn(\n",
      "/Users/maria/anaconda3/envs/DM2324_1/lib/python3.11/site-packages/sklearn/ensemble/_bagging.py:802: DataConversionWarning: A column-vector y was passed when a 1d array was expected. Please change the shape of y to (n_samples, ), for example using ravel().\n",
      "  y = column_or_1d(y, warn=True)\n",
      "/Users/maria/anaconda3/envs/DM2324_1/lib/python3.11/site-packages/sklearn/ensemble/_base.py:156: FutureWarning: `base_estimator` was renamed to `estimator` in version 1.2 and will be removed in 1.4.\n",
      "  warnings.warn(\n",
      "/Users/maria/anaconda3/envs/DM2324_1/lib/python3.11/site-packages/sklearn/ensemble/_bagging.py:802: DataConversionWarning: A column-vector y was passed when a 1d array was expected. Please change the shape of y to (n_samples, ), for example using ravel().\n",
      "  y = column_or_1d(y, warn=True)\n",
      "/Users/maria/anaconda3/envs/DM2324_1/lib/python3.11/site-packages/sklearn/ensemble/_base.py:156: FutureWarning: `base_estimator` was renamed to `estimator` in version 1.2 and will be removed in 1.4.\n",
      "  warnings.warn(\n",
      "/Users/maria/anaconda3/envs/DM2324_1/lib/python3.11/site-packages/sklearn/ensemble/_bagging.py:802: DataConversionWarning: A column-vector y was passed when a 1d array was expected. Please change the shape of y to (n_samples, ), for example using ravel().\n",
      "  y = column_or_1d(y, warn=True)\n",
      "/Users/maria/anaconda3/envs/DM2324_1/lib/python3.11/site-packages/sklearn/ensemble/_base.py:156: FutureWarning: `base_estimator` was renamed to `estimator` in version 1.2 and will be removed in 1.4.\n",
      "  warnings.warn(\n",
      "/Users/maria/anaconda3/envs/DM2324_1/lib/python3.11/site-packages/sklearn/ensemble/_bagging.py:802: DataConversionWarning: A column-vector y was passed when a 1d array was expected. Please change the shape of y to (n_samples, ), for example using ravel().\n",
      "  y = column_or_1d(y, warn=True)\n",
      "/Users/maria/anaconda3/envs/DM2324_1/lib/python3.11/site-packages/sklearn/ensemble/_base.py:156: FutureWarning: `base_estimator` was renamed to `estimator` in version 1.2 and will be removed in 1.4.\n",
      "  warnings.warn(\n",
      "/Users/maria/anaconda3/envs/DM2324_1/lib/python3.11/site-packages/sklearn/ensemble/_bagging.py:802: DataConversionWarning: A column-vector y was passed when a 1d array was expected. Please change the shape of y to (n_samples, ), for example using ravel().\n",
      "  y = column_or_1d(y, warn=True)\n",
      "/Users/maria/anaconda3/envs/DM2324_1/lib/python3.11/site-packages/sklearn/ensemble/_base.py:156: FutureWarning: `base_estimator` was renamed to `estimator` in version 1.2 and will be removed in 1.4.\n",
      "  warnings.warn(\n",
      "/Users/maria/anaconda3/envs/DM2324_1/lib/python3.11/site-packages/sklearn/ensemble/_bagging.py:802: DataConversionWarning: A column-vector y was passed when a 1d array was expected. Please change the shape of y to (n_samples, ), for example using ravel().\n",
      "  y = column_or_1d(y, warn=True)\n",
      "/Users/maria/anaconda3/envs/DM2324_1/lib/python3.11/site-packages/sklearn/ensemble/_base.py:156: FutureWarning: `base_estimator` was renamed to `estimator` in version 1.2 and will be removed in 1.4.\n",
      "  warnings.warn(\n",
      "/Users/maria/anaconda3/envs/DM2324_1/lib/python3.11/site-packages/sklearn/ensemble/_bagging.py:802: DataConversionWarning: A column-vector y was passed when a 1d array was expected. Please change the shape of y to (n_samples, ), for example using ravel().\n",
      "  y = column_or_1d(y, warn=True)\n",
      "/Users/maria/anaconda3/envs/DM2324_1/lib/python3.11/site-packages/sklearn/ensemble/_base.py:156: FutureWarning: `base_estimator` was renamed to `estimator` in version 1.2 and will be removed in 1.4.\n",
      "  warnings.warn(\n",
      "/Users/maria/anaconda3/envs/DM2324_1/lib/python3.11/site-packages/sklearn/ensemble/_bagging.py:802: DataConversionWarning: A column-vector y was passed when a 1d array was expected. Please change the shape of y to (n_samples, ), for example using ravel().\n",
      "  y = column_or_1d(y, warn=True)\n",
      "/Users/maria/anaconda3/envs/DM2324_1/lib/python3.11/site-packages/sklearn/ensemble/_base.py:156: FutureWarning: `base_estimator` was renamed to `estimator` in version 1.2 and will be removed in 1.4.\n",
      "  warnings.warn(\n",
      "/Users/maria/anaconda3/envs/DM2324_1/lib/python3.11/site-packages/sklearn/ensemble/_bagging.py:802: DataConversionWarning: A column-vector y was passed when a 1d array was expected. Please change the shape of y to (n_samples, ), for example using ravel().\n",
      "  y = column_or_1d(y, warn=True)\n",
      "/Users/maria/anaconda3/envs/DM2324_1/lib/python3.11/site-packages/sklearn/ensemble/_base.py:156: FutureWarning: `base_estimator` was renamed to `estimator` in version 1.2 and will be removed in 1.4.\n",
      "  warnings.warn(\n",
      "/Users/maria/anaconda3/envs/DM2324_1/lib/python3.11/site-packages/sklearn/ensemble/_bagging.py:802: DataConversionWarning: A column-vector y was passed when a 1d array was expected. Please change the shape of y to (n_samples, ), for example using ravel().\n",
      "  y = column_or_1d(y, warn=True)\n",
      "/Users/maria/anaconda3/envs/DM2324_1/lib/python3.11/site-packages/sklearn/ensemble/_base.py:156: FutureWarning: `base_estimator` was renamed to `estimator` in version 1.2 and will be removed in 1.4.\n",
      "  warnings.warn(\n",
      "/Users/maria/anaconda3/envs/DM2324_1/lib/python3.11/site-packages/sklearn/ensemble/_bagging.py:802: DataConversionWarning: A column-vector y was passed when a 1d array was expected. Please change the shape of y to (n_samples, ), for example using ravel().\n",
      "  y = column_or_1d(y, warn=True)\n",
      "/Users/maria/anaconda3/envs/DM2324_1/lib/python3.11/site-packages/sklearn/ensemble/_base.py:156: FutureWarning: `base_estimator` was renamed to `estimator` in version 1.2 and will be removed in 1.4.\n",
      "  warnings.warn(\n",
      "/Users/maria/anaconda3/envs/DM2324_1/lib/python3.11/site-packages/sklearn/ensemble/_bagging.py:802: DataConversionWarning: A column-vector y was passed when a 1d array was expected. Please change the shape of y to (n_samples, ), for example using ravel().\n",
      "  y = column_or_1d(y, warn=True)\n",
      "/Users/maria/anaconda3/envs/DM2324_1/lib/python3.11/site-packages/sklearn/ensemble/_base.py:156: FutureWarning: `base_estimator` was renamed to `estimator` in version 1.2 and will be removed in 1.4.\n",
      "  warnings.warn(\n",
      "/Users/maria/anaconda3/envs/DM2324_1/lib/python3.11/site-packages/sklearn/ensemble/_bagging.py:802: DataConversionWarning: A column-vector y was passed when a 1d array was expected. Please change the shape of y to (n_samples, ), for example using ravel().\n",
      "  y = column_or_1d(y, warn=True)\n",
      "/Users/maria/anaconda3/envs/DM2324_1/lib/python3.11/site-packages/sklearn/ensemble/_base.py:156: FutureWarning: `base_estimator` was renamed to `estimator` in version 1.2 and will be removed in 1.4.\n",
      "  warnings.warn(\n",
      "/Users/maria/anaconda3/envs/DM2324_1/lib/python3.11/site-packages/sklearn/ensemble/_bagging.py:802: DataConversionWarning: A column-vector y was passed when a 1d array was expected. Please change the shape of y to (n_samples, ), for example using ravel().\n",
      "  y = column_or_1d(y, warn=True)\n",
      "/Users/maria/anaconda3/envs/DM2324_1/lib/python3.11/site-packages/sklearn/ensemble/_base.py:156: FutureWarning: `base_estimator` was renamed to `estimator` in version 1.2 and will be removed in 1.4.\n",
      "  warnings.warn(\n",
      "/Users/maria/anaconda3/envs/DM2324_1/lib/python3.11/site-packages/sklearn/ensemble/_bagging.py:802: DataConversionWarning: A column-vector y was passed when a 1d array was expected. Please change the shape of y to (n_samples, ), for example using ravel().\n",
      "  y = column_or_1d(y, warn=True)\n",
      "/Users/maria/anaconda3/envs/DM2324_1/lib/python3.11/site-packages/sklearn/ensemble/_base.py:156: FutureWarning: `base_estimator` was renamed to `estimator` in version 1.2 and will be removed in 1.4.\n",
      "  warnings.warn(\n",
      "/Users/maria/anaconda3/envs/DM2324_1/lib/python3.11/site-packages/sklearn/ensemble/_bagging.py:802: DataConversionWarning: A column-vector y was passed when a 1d array was expected. Please change the shape of y to (n_samples, ), for example using ravel().\n",
      "  y = column_or_1d(y, warn=True)\n",
      "/Users/maria/anaconda3/envs/DM2324_1/lib/python3.11/site-packages/sklearn/ensemble/_base.py:156: FutureWarning: `base_estimator` was renamed to `estimator` in version 1.2 and will be removed in 1.4.\n",
      "  warnings.warn(\n",
      "/Users/maria/anaconda3/envs/DM2324_1/lib/python3.11/site-packages/sklearn/ensemble/_bagging.py:802: DataConversionWarning: A column-vector y was passed when a 1d array was expected. Please change the shape of y to (n_samples, ), for example using ravel().\n",
      "  y = column_or_1d(y, warn=True)\n",
      "/Users/maria/anaconda3/envs/DM2324_1/lib/python3.11/site-packages/sklearn/ensemble/_base.py:156: FutureWarning: `base_estimator` was renamed to `estimator` in version 1.2 and will be removed in 1.4.\n",
      "  warnings.warn(\n",
      "/Users/maria/anaconda3/envs/DM2324_1/lib/python3.11/site-packages/sklearn/ensemble/_bagging.py:802: DataConversionWarning: A column-vector y was passed when a 1d array was expected. Please change the shape of y to (n_samples, ), for example using ravel().\n",
      "  y = column_or_1d(y, warn=True)\n",
      "/Users/maria/anaconda3/envs/DM2324_1/lib/python3.11/site-packages/sklearn/ensemble/_base.py:156: FutureWarning: `base_estimator` was renamed to `estimator` in version 1.2 and will be removed in 1.4.\n",
      "  warnings.warn(\n",
      "/Users/maria/anaconda3/envs/DM2324_1/lib/python3.11/site-packages/sklearn/ensemble/_bagging.py:802: DataConversionWarning: A column-vector y was passed when a 1d array was expected. Please change the shape of y to (n_samples, ), for example using ravel().\n",
      "  y = column_or_1d(y, warn=True)\n",
      "/Users/maria/anaconda3/envs/DM2324_1/lib/python3.11/site-packages/sklearn/ensemble/_base.py:156: FutureWarning: `base_estimator` was renamed to `estimator` in version 1.2 and will be removed in 1.4.\n",
      "  warnings.warn(\n",
      "/Users/maria/anaconda3/envs/DM2324_1/lib/python3.11/site-packages/sklearn/ensemble/_bagging.py:802: DataConversionWarning: A column-vector y was passed when a 1d array was expected. Please change the shape of y to (n_samples, ), for example using ravel().\n",
      "  y = column_or_1d(y, warn=True)\n",
      "/Users/maria/anaconda3/envs/DM2324_1/lib/python3.11/site-packages/sklearn/ensemble/_base.py:156: FutureWarning: `base_estimator` was renamed to `estimator` in version 1.2 and will be removed in 1.4.\n",
      "  warnings.warn(\n",
      "/Users/maria/anaconda3/envs/DM2324_1/lib/python3.11/site-packages/sklearn/ensemble/_bagging.py:802: DataConversionWarning: A column-vector y was passed when a 1d array was expected. Please change the shape of y to (n_samples, ), for example using ravel().\n",
      "  y = column_or_1d(y, warn=True)\n",
      "/Users/maria/anaconda3/envs/DM2324_1/lib/python3.11/site-packages/sklearn/ensemble/_base.py:156: FutureWarning: `base_estimator` was renamed to `estimator` in version 1.2 and will be removed in 1.4.\n",
      "  warnings.warn(\n",
      "/Users/maria/anaconda3/envs/DM2324_1/lib/python3.11/site-packages/sklearn/ensemble/_bagging.py:802: DataConversionWarning: A column-vector y was passed when a 1d array was expected. Please change the shape of y to (n_samples, ), for example using ravel().\n",
      "  y = column_or_1d(y, warn=True)\n",
      "/Users/maria/anaconda3/envs/DM2324_1/lib/python3.11/site-packages/sklearn/ensemble/_base.py:156: FutureWarning: `base_estimator` was renamed to `estimator` in version 1.2 and will be removed in 1.4.\n",
      "  warnings.warn(\n",
      "/Users/maria/anaconda3/envs/DM2324_1/lib/python3.11/site-packages/sklearn/ensemble/_bagging.py:802: DataConversionWarning: A column-vector y was passed when a 1d array was expected. Please change the shape of y to (n_samples, ), for example using ravel().\n",
      "  y = column_or_1d(y, warn=True)\n",
      "/Users/maria/anaconda3/envs/DM2324_1/lib/python3.11/site-packages/sklearn/ensemble/_base.py:156: FutureWarning: `base_estimator` was renamed to `estimator` in version 1.2 and will be removed in 1.4.\n",
      "  warnings.warn(\n",
      "/Users/maria/anaconda3/envs/DM2324_1/lib/python3.11/site-packages/sklearn/ensemble/_bagging.py:802: DataConversionWarning: A column-vector y was passed when a 1d array was expected. Please change the shape of y to (n_samples, ), for example using ravel().\n",
      "  y = column_or_1d(y, warn=True)\n",
      "/Users/maria/anaconda3/envs/DM2324_1/lib/python3.11/site-packages/sklearn/ensemble/_base.py:156: FutureWarning: `base_estimator` was renamed to `estimator` in version 1.2 and will be removed in 1.4.\n",
      "  warnings.warn(\n",
      "/Users/maria/anaconda3/envs/DM2324_1/lib/python3.11/site-packages/sklearn/ensemble/_bagging.py:802: DataConversionWarning: A column-vector y was passed when a 1d array was expected. Please change the shape of y to (n_samples, ), for example using ravel().\n",
      "  y = column_or_1d(y, warn=True)\n",
      "/Users/maria/anaconda3/envs/DM2324_1/lib/python3.11/site-packages/sklearn/ensemble/_base.py:156: FutureWarning: `base_estimator` was renamed to `estimator` in version 1.2 and will be removed in 1.4.\n",
      "  warnings.warn(\n",
      "/Users/maria/anaconda3/envs/DM2324_1/lib/python3.11/site-packages/sklearn/ensemble/_bagging.py:802: DataConversionWarning: A column-vector y was passed when a 1d array was expected. Please change the shape of y to (n_samples, ), for example using ravel().\n",
      "  y = column_or_1d(y, warn=True)\n",
      "/Users/maria/anaconda3/envs/DM2324_1/lib/python3.11/site-packages/sklearn/ensemble/_base.py:156: FutureWarning: `base_estimator` was renamed to `estimator` in version 1.2 and will be removed in 1.4.\n",
      "  warnings.warn(\n",
      "/Users/maria/anaconda3/envs/DM2324_1/lib/python3.11/site-packages/sklearn/ensemble/_bagging.py:802: DataConversionWarning: A column-vector y was passed when a 1d array was expected. Please change the shape of y to (n_samples, ), for example using ravel().\n",
      "  y = column_or_1d(y, warn=True)\n",
      "/Users/maria/anaconda3/envs/DM2324_1/lib/python3.11/site-packages/sklearn/ensemble/_base.py:156: FutureWarning: `base_estimator` was renamed to `estimator` in version 1.2 and will be removed in 1.4.\n",
      "  warnings.warn(\n",
      "/Users/maria/anaconda3/envs/DM2324_1/lib/python3.11/site-packages/sklearn/ensemble/_bagging.py:802: DataConversionWarning: A column-vector y was passed when a 1d array was expected. Please change the shape of y to (n_samples, ), for example using ravel().\n",
      "  y = column_or_1d(y, warn=True)\n",
      "/Users/maria/anaconda3/envs/DM2324_1/lib/python3.11/site-packages/sklearn/ensemble/_base.py:156: FutureWarning: `base_estimator` was renamed to `estimator` in version 1.2 and will be removed in 1.4.\n",
      "  warnings.warn(\n",
      "/Users/maria/anaconda3/envs/DM2324_1/lib/python3.11/site-packages/sklearn/ensemble/_bagging.py:802: DataConversionWarning: A column-vector y was passed when a 1d array was expected. Please change the shape of y to (n_samples, ), for example using ravel().\n",
      "  y = column_or_1d(y, warn=True)\n",
      "/Users/maria/anaconda3/envs/DM2324_1/lib/python3.11/site-packages/sklearn/ensemble/_base.py:156: FutureWarning: `base_estimator` was renamed to `estimator` in version 1.2 and will be removed in 1.4.\n",
      "  warnings.warn(\n",
      "/Users/maria/anaconda3/envs/DM2324_1/lib/python3.11/site-packages/sklearn/ensemble/_bagging.py:802: DataConversionWarning: A column-vector y was passed when a 1d array was expected. Please change the shape of y to (n_samples, ), for example using ravel().\n",
      "  y = column_or_1d(y, warn=True)\n",
      "/Users/maria/anaconda3/envs/DM2324_1/lib/python3.11/site-packages/sklearn/ensemble/_base.py:156: FutureWarning: `base_estimator` was renamed to `estimator` in version 1.2 and will be removed in 1.4.\n",
      "  warnings.warn(\n",
      "/Users/maria/anaconda3/envs/DM2324_1/lib/python3.11/site-packages/sklearn/ensemble/_bagging.py:802: DataConversionWarning: A column-vector y was passed when a 1d array was expected. Please change the shape of y to (n_samples, ), for example using ravel().\n",
      "  y = column_or_1d(y, warn=True)\n",
      "/Users/maria/anaconda3/envs/DM2324_1/lib/python3.11/site-packages/sklearn/ensemble/_base.py:156: FutureWarning: `base_estimator` was renamed to `estimator` in version 1.2 and will be removed in 1.4.\n",
      "  warnings.warn(\n",
      "/Users/maria/anaconda3/envs/DM2324_1/lib/python3.11/site-packages/sklearn/ensemble/_bagging.py:802: DataConversionWarning: A column-vector y was passed when a 1d array was expected. Please change the shape of y to (n_samples, ), for example using ravel().\n",
      "  y = column_or_1d(y, warn=True)\n",
      "/Users/maria/anaconda3/envs/DM2324_1/lib/python3.11/site-packages/sklearn/ensemble/_base.py:156: FutureWarning: `base_estimator` was renamed to `estimator` in version 1.2 and will be removed in 1.4.\n",
      "  warnings.warn(\n",
      "/Users/maria/anaconda3/envs/DM2324_1/lib/python3.11/site-packages/sklearn/ensemble/_bagging.py:802: DataConversionWarning: A column-vector y was passed when a 1d array was expected. Please change the shape of y to (n_samples, ), for example using ravel().\n",
      "  y = column_or_1d(y, warn=True)\n",
      "/Users/maria/anaconda3/envs/DM2324_1/lib/python3.11/site-packages/sklearn/ensemble/_base.py:156: FutureWarning: `base_estimator` was renamed to `estimator` in version 1.2 and will be removed in 1.4.\n",
      "  warnings.warn(\n",
      "/Users/maria/anaconda3/envs/DM2324_1/lib/python3.11/site-packages/sklearn/ensemble/_bagging.py:802: DataConversionWarning: A column-vector y was passed when a 1d array was expected. Please change the shape of y to (n_samples, ), for example using ravel().\n",
      "  y = column_or_1d(y, warn=True)\n",
      "/Users/maria/anaconda3/envs/DM2324_1/lib/python3.11/site-packages/sklearn/ensemble/_base.py:156: FutureWarning: `base_estimator` was renamed to `estimator` in version 1.2 and will be removed in 1.4.\n",
      "  warnings.warn(\n",
      "/Users/maria/anaconda3/envs/DM2324_1/lib/python3.11/site-packages/sklearn/ensemble/_bagging.py:802: DataConversionWarning: A column-vector y was passed when a 1d array was expected. Please change the shape of y to (n_samples, ), for example using ravel().\n",
      "  y = column_or_1d(y, warn=True)\n",
      "/Users/maria/anaconda3/envs/DM2324_1/lib/python3.11/site-packages/sklearn/ensemble/_base.py:156: FutureWarning: `base_estimator` was renamed to `estimator` in version 1.2 and will be removed in 1.4.\n",
      "  warnings.warn(\n",
      "/Users/maria/anaconda3/envs/DM2324_1/lib/python3.11/site-packages/sklearn/ensemble/_bagging.py:802: DataConversionWarning: A column-vector y was passed when a 1d array was expected. Please change the shape of y to (n_samples, ), for example using ravel().\n",
      "  y = column_or_1d(y, warn=True)\n",
      "/Users/maria/anaconda3/envs/DM2324_1/lib/python3.11/site-packages/sklearn/ensemble/_base.py:156: FutureWarning: `base_estimator` was renamed to `estimator` in version 1.2 and will be removed in 1.4.\n",
      "  warnings.warn(\n",
      "/Users/maria/anaconda3/envs/DM2324_1/lib/python3.11/site-packages/sklearn/ensemble/_bagging.py:802: DataConversionWarning: A column-vector y was passed when a 1d array was expected. Please change the shape of y to (n_samples, ), for example using ravel().\n",
      "  y = column_or_1d(y, warn=True)\n",
      "/Users/maria/anaconda3/envs/DM2324_1/lib/python3.11/site-packages/sklearn/ensemble/_base.py:156: FutureWarning: `base_estimator` was renamed to `estimator` in version 1.2 and will be removed in 1.4.\n",
      "  warnings.warn(\n",
      "/Users/maria/anaconda3/envs/DM2324_1/lib/python3.11/site-packages/sklearn/ensemble/_bagging.py:802: DataConversionWarning: A column-vector y was passed when a 1d array was expected. Please change the shape of y to (n_samples, ), for example using ravel().\n",
      "  y = column_or_1d(y, warn=True)\n",
      "/Users/maria/anaconda3/envs/DM2324_1/lib/python3.11/site-packages/sklearn/ensemble/_base.py:156: FutureWarning: `base_estimator` was renamed to `estimator` in version 1.2 and will be removed in 1.4.\n",
      "  warnings.warn(\n",
      "/Users/maria/anaconda3/envs/DM2324_1/lib/python3.11/site-packages/sklearn/ensemble/_bagging.py:802: DataConversionWarning: A column-vector y was passed when a 1d array was expected. Please change the shape of y to (n_samples, ), for example using ravel().\n",
      "  y = column_or_1d(y, warn=True)\n",
      "/Users/maria/anaconda3/envs/DM2324_1/lib/python3.11/site-packages/sklearn/ensemble/_base.py:156: FutureWarning: `base_estimator` was renamed to `estimator` in version 1.2 and will be removed in 1.4.\n",
      "  warnings.warn(\n",
      "/Users/maria/anaconda3/envs/DM2324_1/lib/python3.11/site-packages/sklearn/ensemble/_bagging.py:802: DataConversionWarning: A column-vector y was passed when a 1d array was expected. Please change the shape of y to (n_samples, ), for example using ravel().\n",
      "  y = column_or_1d(y, warn=True)\n",
      "/Users/maria/anaconda3/envs/DM2324_1/lib/python3.11/site-packages/sklearn/ensemble/_base.py:156: FutureWarning: `base_estimator` was renamed to `estimator` in version 1.2 and will be removed in 1.4.\n",
      "  warnings.warn(\n",
      "/Users/maria/anaconda3/envs/DM2324_1/lib/python3.11/site-packages/sklearn/ensemble/_bagging.py:802: DataConversionWarning: A column-vector y was passed when a 1d array was expected. Please change the shape of y to (n_samples, ), for example using ravel().\n",
      "  y = column_or_1d(y, warn=True)\n",
      "/Users/maria/anaconda3/envs/DM2324_1/lib/python3.11/site-packages/sklearn/ensemble/_base.py:156: FutureWarning: `base_estimator` was renamed to `estimator` in version 1.2 and will be removed in 1.4.\n",
      "  warnings.warn(\n",
      "/Users/maria/anaconda3/envs/DM2324_1/lib/python3.11/site-packages/sklearn/ensemble/_bagging.py:802: DataConversionWarning: A column-vector y was passed when a 1d array was expected. Please change the shape of y to (n_samples, ), for example using ravel().\n",
      "  y = column_or_1d(y, warn=True)\n",
      "/Users/maria/anaconda3/envs/DM2324_1/lib/python3.11/site-packages/sklearn/ensemble/_base.py:156: FutureWarning: `base_estimator` was renamed to `estimator` in version 1.2 and will be removed in 1.4.\n",
      "  warnings.warn(\n",
      "/Users/maria/anaconda3/envs/DM2324_1/lib/python3.11/site-packages/sklearn/ensemble/_bagging.py:802: DataConversionWarning: A column-vector y was passed when a 1d array was expected. Please change the shape of y to (n_samples, ), for example using ravel().\n",
      "  y = column_or_1d(y, warn=True)\n",
      "/Users/maria/anaconda3/envs/DM2324_1/lib/python3.11/site-packages/sklearn/ensemble/_base.py:156: FutureWarning: `base_estimator` was renamed to `estimator` in version 1.2 and will be removed in 1.4.\n",
      "  warnings.warn(\n",
      "/Users/maria/anaconda3/envs/DM2324_1/lib/python3.11/site-packages/sklearn/ensemble/_bagging.py:802: DataConversionWarning: A column-vector y was passed when a 1d array was expected. Please change the shape of y to (n_samples, ), for example using ravel().\n",
      "  y = column_or_1d(y, warn=True)\n",
      "/Users/maria/anaconda3/envs/DM2324_1/lib/python3.11/site-packages/sklearn/ensemble/_base.py:156: FutureWarning: `base_estimator` was renamed to `estimator` in version 1.2 and will be removed in 1.4.\n",
      "  warnings.warn(\n",
      "/Users/maria/anaconda3/envs/DM2324_1/lib/python3.11/site-packages/sklearn/ensemble/_bagging.py:802: DataConversionWarning: A column-vector y was passed when a 1d array was expected. Please change the shape of y to (n_samples, ), for example using ravel().\n",
      "  y = column_or_1d(y, warn=True)\n",
      "/Users/maria/anaconda3/envs/DM2324_1/lib/python3.11/site-packages/sklearn/ensemble/_base.py:156: FutureWarning: `base_estimator` was renamed to `estimator` in version 1.2 and will be removed in 1.4.\n",
      "  warnings.warn(\n",
      "/Users/maria/anaconda3/envs/DM2324_1/lib/python3.11/site-packages/sklearn/ensemble/_bagging.py:802: DataConversionWarning: A column-vector y was passed when a 1d array was expected. Please change the shape of y to (n_samples, ), for example using ravel().\n",
      "  y = column_or_1d(y, warn=True)\n",
      "/Users/maria/anaconda3/envs/DM2324_1/lib/python3.11/site-packages/sklearn/ensemble/_base.py:156: FutureWarning: `base_estimator` was renamed to `estimator` in version 1.2 and will be removed in 1.4.\n",
      "  warnings.warn(\n",
      "/Users/maria/anaconda3/envs/DM2324_1/lib/python3.11/site-packages/sklearn/ensemble/_bagging.py:802: DataConversionWarning: A column-vector y was passed when a 1d array was expected. Please change the shape of y to (n_samples, ), for example using ravel().\n",
      "  y = column_or_1d(y, warn=True)\n",
      "/Users/maria/anaconda3/envs/DM2324_1/lib/python3.11/site-packages/sklearn/ensemble/_base.py:156: FutureWarning: `base_estimator` was renamed to `estimator` in version 1.2 and will be removed in 1.4.\n",
      "  warnings.warn(\n",
      "/Users/maria/anaconda3/envs/DM2324_1/lib/python3.11/site-packages/sklearn/ensemble/_bagging.py:802: DataConversionWarning: A column-vector y was passed when a 1d array was expected. Please change the shape of y to (n_samples, ), for example using ravel().\n",
      "  y = column_or_1d(y, warn=True)\n",
      "/Users/maria/anaconda3/envs/DM2324_1/lib/python3.11/site-packages/sklearn/ensemble/_base.py:156: FutureWarning: `base_estimator` was renamed to `estimator` in version 1.2 and will be removed in 1.4.\n",
      "  warnings.warn(\n",
      "/Users/maria/anaconda3/envs/DM2324_1/lib/python3.11/site-packages/sklearn/ensemble/_bagging.py:802: DataConversionWarning: A column-vector y was passed when a 1d array was expected. Please change the shape of y to (n_samples, ), for example using ravel().\n",
      "  y = column_or_1d(y, warn=True)\n",
      "/Users/maria/anaconda3/envs/DM2324_1/lib/python3.11/site-packages/sklearn/ensemble/_base.py:156: FutureWarning: `base_estimator` was renamed to `estimator` in version 1.2 and will be removed in 1.4.\n",
      "  warnings.warn(\n",
      "/Users/maria/anaconda3/envs/DM2324_1/lib/python3.11/site-packages/sklearn/ensemble/_bagging.py:802: DataConversionWarning: A column-vector y was passed when a 1d array was expected. Please change the shape of y to (n_samples, ), for example using ravel().\n",
      "  y = column_or_1d(y, warn=True)\n",
      "/Users/maria/anaconda3/envs/DM2324_1/lib/python3.11/site-packages/sklearn/ensemble/_base.py:156: FutureWarning: `base_estimator` was renamed to `estimator` in version 1.2 and will be removed in 1.4.\n",
      "  warnings.warn(\n",
      "/Users/maria/anaconda3/envs/DM2324_1/lib/python3.11/site-packages/sklearn/ensemble/_bagging.py:802: DataConversionWarning: A column-vector y was passed when a 1d array was expected. Please change the shape of y to (n_samples, ), for example using ravel().\n",
      "  y = column_or_1d(y, warn=True)\n",
      "/Users/maria/anaconda3/envs/DM2324_1/lib/python3.11/site-packages/sklearn/ensemble/_base.py:156: FutureWarning: `base_estimator` was renamed to `estimator` in version 1.2 and will be removed in 1.4.\n",
      "  warnings.warn(\n",
      "/Users/maria/anaconda3/envs/DM2324_1/lib/python3.11/site-packages/sklearn/ensemble/_bagging.py:802: DataConversionWarning: A column-vector y was passed when a 1d array was expected. Please change the shape of y to (n_samples, ), for example using ravel().\n",
      "  y = column_or_1d(y, warn=True)\n",
      "/Users/maria/anaconda3/envs/DM2324_1/lib/python3.11/site-packages/sklearn/ensemble/_base.py:156: FutureWarning: `base_estimator` was renamed to `estimator` in version 1.2 and will be removed in 1.4.\n",
      "  warnings.warn(\n",
      "/Users/maria/anaconda3/envs/DM2324_1/lib/python3.11/site-packages/sklearn/ensemble/_bagging.py:802: DataConversionWarning: A column-vector y was passed when a 1d array was expected. Please change the shape of y to (n_samples, ), for example using ravel().\n",
      "  y = column_or_1d(y, warn=True)\n",
      "/Users/maria/anaconda3/envs/DM2324_1/lib/python3.11/site-packages/sklearn/ensemble/_base.py:156: FutureWarning: `base_estimator` was renamed to `estimator` in version 1.2 and will be removed in 1.4.\n",
      "  warnings.warn(\n",
      "/Users/maria/anaconda3/envs/DM2324_1/lib/python3.11/site-packages/sklearn/ensemble/_bagging.py:802: DataConversionWarning: A column-vector y was passed when a 1d array was expected. Please change the shape of y to (n_samples, ), for example using ravel().\n",
      "  y = column_or_1d(y, warn=True)\n",
      "/Users/maria/anaconda3/envs/DM2324_1/lib/python3.11/site-packages/sklearn/ensemble/_base.py:156: FutureWarning: `base_estimator` was renamed to `estimator` in version 1.2 and will be removed in 1.4.\n",
      "  warnings.warn(\n",
      "/Users/maria/anaconda3/envs/DM2324_1/lib/python3.11/site-packages/sklearn/ensemble/_bagging.py:802: DataConversionWarning: A column-vector y was passed when a 1d array was expected. Please change the shape of y to (n_samples, ), for example using ravel().\n",
      "  y = column_or_1d(y, warn=True)\n",
      "/Users/maria/anaconda3/envs/DM2324_1/lib/python3.11/site-packages/sklearn/ensemble/_base.py:156: FutureWarning: `base_estimator` was renamed to `estimator` in version 1.2 and will be removed in 1.4.\n",
      "  warnings.warn(\n",
      "/Users/maria/anaconda3/envs/DM2324_1/lib/python3.11/site-packages/sklearn/ensemble/_bagging.py:802: DataConversionWarning: A column-vector y was passed when a 1d array was expected. Please change the shape of y to (n_samples, ), for example using ravel().\n",
      "  y = column_or_1d(y, warn=True)\n",
      "/Users/maria/anaconda3/envs/DM2324_1/lib/python3.11/site-packages/sklearn/ensemble/_base.py:156: FutureWarning: `base_estimator` was renamed to `estimator` in version 1.2 and will be removed in 1.4.\n",
      "  warnings.warn(\n",
      "/Users/maria/anaconda3/envs/DM2324_1/lib/python3.11/site-packages/sklearn/ensemble/_bagging.py:802: DataConversionWarning: A column-vector y was passed when a 1d array was expected. Please change the shape of y to (n_samples, ), for example using ravel().\n",
      "  y = column_or_1d(y, warn=True)\n",
      "/Users/maria/anaconda3/envs/DM2324_1/lib/python3.11/site-packages/sklearn/ensemble/_base.py:156: FutureWarning: `base_estimator` was renamed to `estimator` in version 1.2 and will be removed in 1.4.\n",
      "  warnings.warn(\n",
      "/Users/maria/anaconda3/envs/DM2324_1/lib/python3.11/site-packages/sklearn/ensemble/_bagging.py:802: DataConversionWarning: A column-vector y was passed when a 1d array was expected. Please change the shape of y to (n_samples, ), for example using ravel().\n",
      "  y = column_or_1d(y, warn=True)\n",
      "/Users/maria/anaconda3/envs/DM2324_1/lib/python3.11/site-packages/sklearn/ensemble/_base.py:156: FutureWarning: `base_estimator` was renamed to `estimator` in version 1.2 and will be removed in 1.4.\n",
      "  warnings.warn(\n",
      "/Users/maria/anaconda3/envs/DM2324_1/lib/python3.11/site-packages/sklearn/ensemble/_bagging.py:802: DataConversionWarning: A column-vector y was passed when a 1d array was expected. Please change the shape of y to (n_samples, ), for example using ravel().\n",
      "  y = column_or_1d(y, warn=True)\n",
      "/Users/maria/anaconda3/envs/DM2324_1/lib/python3.11/site-packages/sklearn/ensemble/_base.py:156: FutureWarning: `base_estimator` was renamed to `estimator` in version 1.2 and will be removed in 1.4.\n",
      "  warnings.warn(\n",
      "/Users/maria/anaconda3/envs/DM2324_1/lib/python3.11/site-packages/sklearn/ensemble/_bagging.py:802: DataConversionWarning: A column-vector y was passed when a 1d array was expected. Please change the shape of y to (n_samples, ), for example using ravel().\n",
      "  y = column_or_1d(y, warn=True)\n",
      "/Users/maria/anaconda3/envs/DM2324_1/lib/python3.11/site-packages/sklearn/ensemble/_base.py:156: FutureWarning: `base_estimator` was renamed to `estimator` in version 1.2 and will be removed in 1.4.\n",
      "  warnings.warn(\n",
      "/Users/maria/anaconda3/envs/DM2324_1/lib/python3.11/site-packages/sklearn/ensemble/_bagging.py:802: DataConversionWarning: A column-vector y was passed when a 1d array was expected. Please change the shape of y to (n_samples, ), for example using ravel().\n",
      "  y = column_or_1d(y, warn=True)\n",
      "/Users/maria/anaconda3/envs/DM2324_1/lib/python3.11/site-packages/sklearn/ensemble/_base.py:156: FutureWarning: `base_estimator` was renamed to `estimator` in version 1.2 and will be removed in 1.4.\n",
      "  warnings.warn(\n",
      "/Users/maria/anaconda3/envs/DM2324_1/lib/python3.11/site-packages/sklearn/ensemble/_bagging.py:802: DataConversionWarning: A column-vector y was passed when a 1d array was expected. Please change the shape of y to (n_samples, ), for example using ravel().\n",
      "  y = column_or_1d(y, warn=True)\n",
      "/Users/maria/anaconda3/envs/DM2324_1/lib/python3.11/site-packages/sklearn/ensemble/_base.py:156: FutureWarning: `base_estimator` was renamed to `estimator` in version 1.2 and will be removed in 1.4.\n",
      "  warnings.warn(\n",
      "/Users/maria/anaconda3/envs/DM2324_1/lib/python3.11/site-packages/sklearn/ensemble/_bagging.py:802: DataConversionWarning: A column-vector y was passed when a 1d array was expected. Please change the shape of y to (n_samples, ), for example using ravel().\n",
      "  y = column_or_1d(y, warn=True)\n",
      "/Users/maria/anaconda3/envs/DM2324_1/lib/python3.11/site-packages/sklearn/ensemble/_base.py:156: FutureWarning: `base_estimator` was renamed to `estimator` in version 1.2 and will be removed in 1.4.\n",
      "  warnings.warn(\n",
      "/Users/maria/anaconda3/envs/DM2324_1/lib/python3.11/site-packages/sklearn/ensemble/_bagging.py:802: DataConversionWarning: A column-vector y was passed when a 1d array was expected. Please change the shape of y to (n_samples, ), for example using ravel().\n",
      "  y = column_or_1d(y, warn=True)\n",
      "/Users/maria/anaconda3/envs/DM2324_1/lib/python3.11/site-packages/sklearn/ensemble/_base.py:156: FutureWarning: `base_estimator` was renamed to `estimator` in version 1.2 and will be removed in 1.4.\n",
      "  warnings.warn(\n",
      "/Users/maria/anaconda3/envs/DM2324_1/lib/python3.11/site-packages/sklearn/ensemble/_bagging.py:802: DataConversionWarning: A column-vector y was passed when a 1d array was expected. Please change the shape of y to (n_samples, ), for example using ravel().\n",
      "  y = column_or_1d(y, warn=True)\n",
      "/Users/maria/anaconda3/envs/DM2324_1/lib/python3.11/site-packages/sklearn/ensemble/_base.py:156: FutureWarning: `base_estimator` was renamed to `estimator` in version 1.2 and will be removed in 1.4.\n",
      "  warnings.warn(\n",
      "/Users/maria/anaconda3/envs/DM2324_1/lib/python3.11/site-packages/sklearn/ensemble/_bagging.py:802: DataConversionWarning: A column-vector y was passed when a 1d array was expected. Please change the shape of y to (n_samples, ), for example using ravel().\n",
      "  y = column_or_1d(y, warn=True)\n",
      "/Users/maria/anaconda3/envs/DM2324_1/lib/python3.11/site-packages/sklearn/ensemble/_base.py:156: FutureWarning: `base_estimator` was renamed to `estimator` in version 1.2 and will be removed in 1.4.\n",
      "  warnings.warn(\n",
      "/Users/maria/anaconda3/envs/DM2324_1/lib/python3.11/site-packages/sklearn/ensemble/_bagging.py:802: DataConversionWarning: A column-vector y was passed when a 1d array was expected. Please change the shape of y to (n_samples, ), for example using ravel().\n",
      "  y = column_or_1d(y, warn=True)\n",
      "/Users/maria/anaconda3/envs/DM2324_1/lib/python3.11/site-packages/sklearn/ensemble/_base.py:156: FutureWarning: `base_estimator` was renamed to `estimator` in version 1.2 and will be removed in 1.4.\n",
      "  warnings.warn(\n",
      "/Users/maria/anaconda3/envs/DM2324_1/lib/python3.11/site-packages/sklearn/ensemble/_bagging.py:802: DataConversionWarning: A column-vector y was passed when a 1d array was expected. Please change the shape of y to (n_samples, ), for example using ravel().\n",
      "  y = column_or_1d(y, warn=True)\n",
      "/Users/maria/anaconda3/envs/DM2324_1/lib/python3.11/site-packages/sklearn/ensemble/_base.py:156: FutureWarning: `base_estimator` was renamed to `estimator` in version 1.2 and will be removed in 1.4.\n",
      "  warnings.warn(\n",
      "/Users/maria/anaconda3/envs/DM2324_1/lib/python3.11/site-packages/sklearn/ensemble/_bagging.py:802: DataConversionWarning: A column-vector y was passed when a 1d array was expected. Please change the shape of y to (n_samples, ), for example using ravel().\n",
      "  y = column_or_1d(y, warn=True)\n",
      "/Users/maria/anaconda3/envs/DM2324_1/lib/python3.11/site-packages/sklearn/ensemble/_base.py:156: FutureWarning: `base_estimator` was renamed to `estimator` in version 1.2 and will be removed in 1.4.\n",
      "  warnings.warn(\n",
      "/Users/maria/anaconda3/envs/DM2324_1/lib/python3.11/site-packages/sklearn/ensemble/_bagging.py:802: DataConversionWarning: A column-vector y was passed when a 1d array was expected. Please change the shape of y to (n_samples, ), for example using ravel().\n",
      "  y = column_or_1d(y, warn=True)\n",
      "/Users/maria/anaconda3/envs/DM2324_1/lib/python3.11/site-packages/sklearn/ensemble/_base.py:156: FutureWarning: `base_estimator` was renamed to `estimator` in version 1.2 and will be removed in 1.4.\n",
      "  warnings.warn(\n",
      "/Users/maria/anaconda3/envs/DM2324_1/lib/python3.11/site-packages/sklearn/ensemble/_bagging.py:802: DataConversionWarning: A column-vector y was passed when a 1d array was expected. Please change the shape of y to (n_samples, ), for example using ravel().\n",
      "  y = column_or_1d(y, warn=True)\n",
      "/Users/maria/anaconda3/envs/DM2324_1/lib/python3.11/site-packages/sklearn/ensemble/_base.py:156: FutureWarning: `base_estimator` was renamed to `estimator` in version 1.2 and will be removed in 1.4.\n",
      "  warnings.warn(\n",
      "/Users/maria/anaconda3/envs/DM2324_1/lib/python3.11/site-packages/sklearn/ensemble/_bagging.py:802: DataConversionWarning: A column-vector y was passed when a 1d array was expected. Please change the shape of y to (n_samples, ), for example using ravel().\n",
      "  y = column_or_1d(y, warn=True)\n",
      "/Users/maria/anaconda3/envs/DM2324_1/lib/python3.11/site-packages/sklearn/ensemble/_base.py:156: FutureWarning: `base_estimator` was renamed to `estimator` in version 1.2 and will be removed in 1.4.\n",
      "  warnings.warn(\n",
      "/Users/maria/anaconda3/envs/DM2324_1/lib/python3.11/site-packages/sklearn/ensemble/_bagging.py:802: DataConversionWarning: A column-vector y was passed when a 1d array was expected. Please change the shape of y to (n_samples, ), for example using ravel().\n",
      "  y = column_or_1d(y, warn=True)\n",
      "/Users/maria/anaconda3/envs/DM2324_1/lib/python3.11/site-packages/sklearn/ensemble/_base.py:156: FutureWarning: `base_estimator` was renamed to `estimator` in version 1.2 and will be removed in 1.4.\n",
      "  warnings.warn(\n",
      "/Users/maria/anaconda3/envs/DM2324_1/lib/python3.11/site-packages/sklearn/ensemble/_bagging.py:802: DataConversionWarning: A column-vector y was passed when a 1d array was expected. Please change the shape of y to (n_samples, ), for example using ravel().\n",
      "  y = column_or_1d(y, warn=True)\n",
      "/Users/maria/anaconda3/envs/DM2324_1/lib/python3.11/site-packages/sklearn/ensemble/_base.py:156: FutureWarning: `base_estimator` was renamed to `estimator` in version 1.2 and will be removed in 1.4.\n",
      "  warnings.warn(\n",
      "/Users/maria/anaconda3/envs/DM2324_1/lib/python3.11/site-packages/sklearn/ensemble/_bagging.py:802: DataConversionWarning: A column-vector y was passed when a 1d array was expected. Please change the shape of y to (n_samples, ), for example using ravel().\n",
      "  y = column_or_1d(y, warn=True)\n",
      "/Users/maria/anaconda3/envs/DM2324_1/lib/python3.11/site-packages/sklearn/ensemble/_base.py:156: FutureWarning: `base_estimator` was renamed to `estimator` in version 1.2 and will be removed in 1.4.\n",
      "  warnings.warn(\n"
     ]
    },
    {
     "ename": "KeyboardInterrupt",
     "evalue": "",
     "output_type": "error",
     "traceback": [
      "\u001b[0;31m---------------------------------------------------------------------------\u001b[0m\n",
      "\u001b[0;31mKeyboardInterrupt\u001b[0m                         Traceback (most recent call last)\n",
      "Cell \u001b[0;32mIn[152], line 4\u001b[0m\n",
      "\u001b[1;32m      2\u001b[0m bagging_dt \u001b[38;5;241m=\u001b[39m BaggingClassifier(base_estimator\u001b[38;5;241m=\u001b[39mbase_dt, random_state\u001b[38;5;241m=\u001b[39m\u001b[38;5;241m15\u001b[39m)\n",
      "\u001b[1;32m      3\u001b[0m grid_search_bagging_dt \u001b[38;5;241m=\u001b[39m GridSearchCV(estimator\u001b[38;5;241m=\u001b[39mbagging_dt, param_grid\u001b[38;5;241m=\u001b[39mparam_grid_bagging_dt, cv\u001b[38;5;241m=\u001b[39m\u001b[38;5;241m5\u001b[39m, scoring\u001b[38;5;241m=\u001b[39m\u001b[38;5;124m'\u001b[39m\u001b[38;5;124mf1\u001b[39m\u001b[38;5;124m'\u001b[39m, n_jobs\u001b[38;5;241m=\u001b[39m\u001b[38;5;241m-\u001b[39m\u001b[38;5;241m1\u001b[39m)\n",
      "\u001b[0;32m----> 4\u001b[0m \u001b[43mgrid_search_bagging_dt\u001b[49m\u001b[38;5;241;43m.\u001b[39;49m\u001b[43mfit\u001b[49m\u001b[43m(\u001b[49m\u001b[43mX_train\u001b[49m\u001b[43m,\u001b[49m\u001b[43m \u001b[49m\u001b[43my_train\u001b[49m\u001b[43m)\u001b[49m\n",
      "\u001b[1;32m      6\u001b[0m \u001b[38;5;66;03m# Get the best hyperparameters\u001b[39;00m\n",
      "\u001b[1;32m      7\u001b[0m best_params_bagging_dt \u001b[38;5;241m=\u001b[39m grid_search_bagging_dt\u001b[38;5;241m.\u001b[39mbest_params_\n",
      "\n",
      "File \u001b[0;32m~/anaconda3/envs/DM2324_1/lib/python3.11/site-packages/sklearn/base.py:1151\u001b[0m, in \u001b[0;36m_fit_context.<locals>.decorator.<locals>.wrapper\u001b[0;34m(estimator, *args, **kwargs)\u001b[0m\n",
      "\u001b[1;32m   1144\u001b[0m     estimator\u001b[38;5;241m.\u001b[39m_validate_params()\n",
      "\u001b[1;32m   1146\u001b[0m \u001b[38;5;28;01mwith\u001b[39;00m config_context(\n",
      "\u001b[1;32m   1147\u001b[0m     skip_parameter_validation\u001b[38;5;241m=\u001b[39m(\n",
      "\u001b[1;32m   1148\u001b[0m         prefer_skip_nested_validation \u001b[38;5;129;01mor\u001b[39;00m global_skip_validation\n",
      "\u001b[1;32m   1149\u001b[0m     )\n",
      "\u001b[1;32m   1150\u001b[0m ):\n",
      "\u001b[0;32m-> 1151\u001b[0m     \u001b[38;5;28;01mreturn\u001b[39;00m \u001b[43mfit_method\u001b[49m\u001b[43m(\u001b[49m\u001b[43mestimator\u001b[49m\u001b[43m,\u001b[49m\u001b[43m \u001b[49m\u001b[38;5;241;43m*\u001b[39;49m\u001b[43margs\u001b[49m\u001b[43m,\u001b[49m\u001b[43m \u001b[49m\u001b[38;5;241;43m*\u001b[39;49m\u001b[38;5;241;43m*\u001b[39;49m\u001b[43mkwargs\u001b[49m\u001b[43m)\u001b[49m\n",
      "\n",
      "File \u001b[0;32m~/anaconda3/envs/DM2324_1/lib/python3.11/site-packages/sklearn/model_selection/_search.py:898\u001b[0m, in \u001b[0;36mBaseSearchCV.fit\u001b[0;34m(self, X, y, groups, **fit_params)\u001b[0m\n",
      "\u001b[1;32m    892\u001b[0m     results \u001b[38;5;241m=\u001b[39m \u001b[38;5;28mself\u001b[39m\u001b[38;5;241m.\u001b[39m_format_results(\n",
      "\u001b[1;32m    893\u001b[0m         all_candidate_params, n_splits, all_out, all_more_results\n",
      "\u001b[1;32m    894\u001b[0m     )\n",
      "\u001b[1;32m    896\u001b[0m     \u001b[38;5;28;01mreturn\u001b[39;00m results\n",
      "\u001b[0;32m--> 898\u001b[0m \u001b[38;5;28;43mself\u001b[39;49m\u001b[38;5;241;43m.\u001b[39;49m\u001b[43m_run_search\u001b[49m\u001b[43m(\u001b[49m\u001b[43mevaluate_candidates\u001b[49m\u001b[43m)\u001b[49m\n",
      "\u001b[1;32m    900\u001b[0m \u001b[38;5;66;03m# multimetric is determined here because in the case of a callable\u001b[39;00m\n",
      "\u001b[1;32m    901\u001b[0m \u001b[38;5;66;03m# self.scoring the return type is only known after calling\u001b[39;00m\n",
      "\u001b[1;32m    902\u001b[0m first_test_score \u001b[38;5;241m=\u001b[39m all_out[\u001b[38;5;241m0\u001b[39m][\u001b[38;5;124m\"\u001b[39m\u001b[38;5;124mtest_scores\u001b[39m\u001b[38;5;124m\"\u001b[39m]\n",
      "\n",
      "File \u001b[0;32m~/anaconda3/envs/DM2324_1/lib/python3.11/site-packages/sklearn/model_selection/_search.py:1419\u001b[0m, in \u001b[0;36mGridSearchCV._run_search\u001b[0;34m(self, evaluate_candidates)\u001b[0m\n",
      "\u001b[1;32m   1417\u001b[0m \u001b[38;5;28;01mdef\u001b[39;00m \u001b[38;5;21m_run_search\u001b[39m(\u001b[38;5;28mself\u001b[39m, evaluate_candidates):\n",
      "\u001b[1;32m   1418\u001b[0m \u001b[38;5;250m    \u001b[39m\u001b[38;5;124;03m\"\"\"Search all candidates in param_grid\"\"\"\u001b[39;00m\n",
      "\u001b[0;32m-> 1419\u001b[0m     \u001b[43mevaluate_candidates\u001b[49m\u001b[43m(\u001b[49m\u001b[43mParameterGrid\u001b[49m\u001b[43m(\u001b[49m\u001b[38;5;28;43mself\u001b[39;49m\u001b[38;5;241;43m.\u001b[39;49m\u001b[43mparam_grid\u001b[49m\u001b[43m)\u001b[49m\u001b[43m)\u001b[49m\n",
      "\n",
      "File \u001b[0;32m~/anaconda3/envs/DM2324_1/lib/python3.11/site-packages/sklearn/model_selection/_search.py:845\u001b[0m, in \u001b[0;36mBaseSearchCV.fit.<locals>.evaluate_candidates\u001b[0;34m(candidate_params, cv, more_results)\u001b[0m\n",
      "\u001b[1;32m    837\u001b[0m \u001b[38;5;28;01mif\u001b[39;00m \u001b[38;5;28mself\u001b[39m\u001b[38;5;241m.\u001b[39mverbose \u001b[38;5;241m>\u001b[39m \u001b[38;5;241m0\u001b[39m:\n",
      "\u001b[1;32m    838\u001b[0m     \u001b[38;5;28mprint\u001b[39m(\n",
      "\u001b[1;32m    839\u001b[0m         \u001b[38;5;124m\"\u001b[39m\u001b[38;5;124mFitting \u001b[39m\u001b[38;5;132;01m{0}\u001b[39;00m\u001b[38;5;124m folds for each of \u001b[39m\u001b[38;5;132;01m{1}\u001b[39;00m\u001b[38;5;124m candidates,\u001b[39m\u001b[38;5;124m\"\u001b[39m\n",
      "\u001b[1;32m    840\u001b[0m         \u001b[38;5;124m\"\u001b[39m\u001b[38;5;124m totalling \u001b[39m\u001b[38;5;132;01m{2}\u001b[39;00m\u001b[38;5;124m fits\u001b[39m\u001b[38;5;124m\"\u001b[39m\u001b[38;5;241m.\u001b[39mformat(\n",
      "\u001b[1;32m    841\u001b[0m             n_splits, n_candidates, n_candidates \u001b[38;5;241m*\u001b[39m n_splits\n",
      "\u001b[1;32m    842\u001b[0m         )\n",
      "\u001b[1;32m    843\u001b[0m     )\n",
      "\u001b[0;32m--> 845\u001b[0m out \u001b[38;5;241m=\u001b[39m \u001b[43mparallel\u001b[49m\u001b[43m(\u001b[49m\n",
      "\u001b[1;32m    846\u001b[0m \u001b[43m    \u001b[49m\u001b[43mdelayed\u001b[49m\u001b[43m(\u001b[49m\u001b[43m_fit_and_score\u001b[49m\u001b[43m)\u001b[49m\u001b[43m(\u001b[49m\n",
      "\u001b[1;32m    847\u001b[0m \u001b[43m        \u001b[49m\u001b[43mclone\u001b[49m\u001b[43m(\u001b[49m\u001b[43mbase_estimator\u001b[49m\u001b[43m)\u001b[49m\u001b[43m,\u001b[49m\n",
      "\u001b[1;32m    848\u001b[0m \u001b[43m        \u001b[49m\u001b[43mX\u001b[49m\u001b[43m,\u001b[49m\n",
      "\u001b[1;32m    849\u001b[0m \u001b[43m        \u001b[49m\u001b[43my\u001b[49m\u001b[43m,\u001b[49m\n",
      "\u001b[1;32m    850\u001b[0m \u001b[43m        \u001b[49m\u001b[43mtrain\u001b[49m\u001b[38;5;241;43m=\u001b[39;49m\u001b[43mtrain\u001b[49m\u001b[43m,\u001b[49m\n",
      "\u001b[1;32m    851\u001b[0m \u001b[43m        \u001b[49m\u001b[43mtest\u001b[49m\u001b[38;5;241;43m=\u001b[39;49m\u001b[43mtest\u001b[49m\u001b[43m,\u001b[49m\n",
      "\u001b[1;32m    852\u001b[0m \u001b[43m        \u001b[49m\u001b[43mparameters\u001b[49m\u001b[38;5;241;43m=\u001b[39;49m\u001b[43mparameters\u001b[49m\u001b[43m,\u001b[49m\n",
      "\u001b[1;32m    853\u001b[0m \u001b[43m        \u001b[49m\u001b[43msplit_progress\u001b[49m\u001b[38;5;241;43m=\u001b[39;49m\u001b[43m(\u001b[49m\u001b[43msplit_idx\u001b[49m\u001b[43m,\u001b[49m\u001b[43m \u001b[49m\u001b[43mn_splits\u001b[49m\u001b[43m)\u001b[49m\u001b[43m,\u001b[49m\n",
      "\u001b[1;32m    854\u001b[0m \u001b[43m        \u001b[49m\u001b[43mcandidate_progress\u001b[49m\u001b[38;5;241;43m=\u001b[39;49m\u001b[43m(\u001b[49m\u001b[43mcand_idx\u001b[49m\u001b[43m,\u001b[49m\u001b[43m \u001b[49m\u001b[43mn_candidates\u001b[49m\u001b[43m)\u001b[49m\u001b[43m,\u001b[49m\n",
      "\u001b[1;32m    855\u001b[0m \u001b[43m        \u001b[49m\u001b[38;5;241;43m*\u001b[39;49m\u001b[38;5;241;43m*\u001b[39;49m\u001b[43mfit_and_score_kwargs\u001b[49m\u001b[43m,\u001b[49m\n",
      "\u001b[1;32m    856\u001b[0m \u001b[43m    \u001b[49m\u001b[43m)\u001b[49m\n",
      "\u001b[1;32m    857\u001b[0m \u001b[43m    \u001b[49m\u001b[38;5;28;43;01mfor\u001b[39;49;00m\u001b[43m \u001b[49m\u001b[43m(\u001b[49m\u001b[43mcand_idx\u001b[49m\u001b[43m,\u001b[49m\u001b[43m \u001b[49m\u001b[43mparameters\u001b[49m\u001b[43m)\u001b[49m\u001b[43m,\u001b[49m\u001b[43m \u001b[49m\u001b[43m(\u001b[49m\u001b[43msplit_idx\u001b[49m\u001b[43m,\u001b[49m\u001b[43m \u001b[49m\u001b[43m(\u001b[49m\u001b[43mtrain\u001b[49m\u001b[43m,\u001b[49m\u001b[43m \u001b[49m\u001b[43mtest\u001b[49m\u001b[43m)\u001b[49m\u001b[43m)\u001b[49m\u001b[43m \u001b[49m\u001b[38;5;129;43;01min\u001b[39;49;00m\u001b[43m \u001b[49m\u001b[43mproduct\u001b[49m\u001b[43m(\u001b[49m\n",
      "\u001b[1;32m    858\u001b[0m \u001b[43m        \u001b[49m\u001b[38;5;28;43menumerate\u001b[39;49m\u001b[43m(\u001b[49m\u001b[43mcandidate_params\u001b[49m\u001b[43m)\u001b[49m\u001b[43m,\u001b[49m\u001b[43m \u001b[49m\u001b[38;5;28;43menumerate\u001b[39;49m\u001b[43m(\u001b[49m\u001b[43mcv\u001b[49m\u001b[38;5;241;43m.\u001b[39;49m\u001b[43msplit\u001b[49m\u001b[43m(\u001b[49m\u001b[43mX\u001b[49m\u001b[43m,\u001b[49m\u001b[43m \u001b[49m\u001b[43my\u001b[49m\u001b[43m,\u001b[49m\u001b[43m \u001b[49m\u001b[43mgroups\u001b[49m\u001b[43m)\u001b[49m\u001b[43m)\u001b[49m\n",
      "\u001b[1;32m    859\u001b[0m \u001b[43m    \u001b[49m\u001b[43m)\u001b[49m\n",
      "\u001b[1;32m    860\u001b[0m \u001b[43m\u001b[49m\u001b[43m)\u001b[49m\n",
      "\u001b[1;32m    862\u001b[0m \u001b[38;5;28;01mif\u001b[39;00m \u001b[38;5;28mlen\u001b[39m(out) \u001b[38;5;241m<\u001b[39m \u001b[38;5;241m1\u001b[39m:\n",
      "\u001b[1;32m    863\u001b[0m     \u001b[38;5;28;01mraise\u001b[39;00m \u001b[38;5;167;01mValueError\u001b[39;00m(\n",
      "\u001b[1;32m    864\u001b[0m         \u001b[38;5;124m\"\u001b[39m\u001b[38;5;124mNo fits were performed. \u001b[39m\u001b[38;5;124m\"\u001b[39m\n",
      "\u001b[1;32m    865\u001b[0m         \u001b[38;5;124m\"\u001b[39m\u001b[38;5;124mWas the CV iterator empty? \u001b[39m\u001b[38;5;124m\"\u001b[39m\n",
      "\u001b[1;32m    866\u001b[0m         \u001b[38;5;124m\"\u001b[39m\u001b[38;5;124mWere there no candidates?\u001b[39m\u001b[38;5;124m\"\u001b[39m\n",
      "\u001b[1;32m    867\u001b[0m     )\n",
      "\n",
      "File \u001b[0;32m~/anaconda3/envs/DM2324_1/lib/python3.11/site-packages/sklearn/utils/parallel.py:65\u001b[0m, in \u001b[0;36mParallel.__call__\u001b[0;34m(self, iterable)\u001b[0m\n",
      "\u001b[1;32m     60\u001b[0m config \u001b[38;5;241m=\u001b[39m get_config()\n",
      "\u001b[1;32m     61\u001b[0m iterable_with_config \u001b[38;5;241m=\u001b[39m (\n",
      "\u001b[1;32m     62\u001b[0m     (_with_config(delayed_func, config), args, kwargs)\n",
      "\u001b[1;32m     63\u001b[0m     \u001b[38;5;28;01mfor\u001b[39;00m delayed_func, args, kwargs \u001b[38;5;129;01min\u001b[39;00m iterable\n",
      "\u001b[1;32m     64\u001b[0m )\n",
      "\u001b[0;32m---> 65\u001b[0m \u001b[38;5;28;01mreturn\u001b[39;00m \u001b[38;5;28;43msuper\u001b[39;49m\u001b[43m(\u001b[49m\u001b[43m)\u001b[49m\u001b[38;5;241;43m.\u001b[39;49m\u001b[38;5;21;43m__call__\u001b[39;49m\u001b[43m(\u001b[49m\u001b[43miterable_with_config\u001b[49m\u001b[43m)\u001b[49m\n",
      "\n",
      "File \u001b[0;32m~/anaconda3/envs/DM2324_1/lib/python3.11/site-packages/joblib/parallel.py:1952\u001b[0m, in \u001b[0;36mParallel.__call__\u001b[0;34m(self, iterable)\u001b[0m\n",
      "\u001b[1;32m   1946\u001b[0m \u001b[38;5;66;03m# The first item from the output is blank, but it makes the interpreter\u001b[39;00m\n",
      "\u001b[1;32m   1947\u001b[0m \u001b[38;5;66;03m# progress until it enters the Try/Except block of the generator and\u001b[39;00m\n",
      "\u001b[1;32m   1948\u001b[0m \u001b[38;5;66;03m# reach the first `yield` statement. This starts the aynchronous\u001b[39;00m\n",
      "\u001b[1;32m   1949\u001b[0m \u001b[38;5;66;03m# dispatch of the tasks to the workers.\u001b[39;00m\n",
      "\u001b[1;32m   1950\u001b[0m \u001b[38;5;28mnext\u001b[39m(output)\n",
      "\u001b[0;32m-> 1952\u001b[0m \u001b[38;5;28;01mreturn\u001b[39;00m output \u001b[38;5;28;01mif\u001b[39;00m \u001b[38;5;28mself\u001b[39m\u001b[38;5;241m.\u001b[39mreturn_generator \u001b[38;5;28;01melse\u001b[39;00m \u001b[38;5;28mlist\u001b[39m(output)\n",
      "\n",
      "File \u001b[0;32m~/anaconda3/envs/DM2324_1/lib/python3.11/site-packages/joblib/parallel.py:1595\u001b[0m, in \u001b[0;36mParallel._get_outputs\u001b[0;34m(self, iterator, pre_dispatch)\u001b[0m\n",
      "\u001b[1;32m   1592\u001b[0m     \u001b[38;5;28;01myield\u001b[39;00m\n",
      "\u001b[1;32m   1594\u001b[0m     \u001b[38;5;28;01mwith\u001b[39;00m \u001b[38;5;28mself\u001b[39m\u001b[38;5;241m.\u001b[39m_backend\u001b[38;5;241m.\u001b[39mretrieval_context():\n",
      "\u001b[0;32m-> 1595\u001b[0m         \u001b[38;5;28;01myield from\u001b[39;00m \u001b[38;5;28mself\u001b[39m\u001b[38;5;241m.\u001b[39m_retrieve()\n",
      "\u001b[1;32m   1597\u001b[0m \u001b[38;5;28;01mexcept\u001b[39;00m \u001b[38;5;167;01mGeneratorExit\u001b[39;00m:\n",
      "\u001b[1;32m   1598\u001b[0m     \u001b[38;5;66;03m# The generator has been garbage collected before being fully\u001b[39;00m\n",
      "\u001b[1;32m   1599\u001b[0m     \u001b[38;5;66;03m# consumed. This aborts the remaining tasks if possible and warn\u001b[39;00m\n",
      "\u001b[1;32m   1600\u001b[0m     \u001b[38;5;66;03m# the user if necessary.\u001b[39;00m\n",
      "\u001b[1;32m   1601\u001b[0m     \u001b[38;5;28mself\u001b[39m\u001b[38;5;241m.\u001b[39m_exception \u001b[38;5;241m=\u001b[39m \u001b[38;5;28;01mTrue\u001b[39;00m\n",
      "\n",
      "File \u001b[0;32m~/anaconda3/envs/DM2324_1/lib/python3.11/site-packages/joblib/parallel.py:1707\u001b[0m, in \u001b[0;36mParallel._retrieve\u001b[0;34m(self)\u001b[0m\n",
      "\u001b[1;32m   1702\u001b[0m \u001b[38;5;66;03m# If the next job is not ready for retrieval yet, we just wait for\u001b[39;00m\n",
      "\u001b[1;32m   1703\u001b[0m \u001b[38;5;66;03m# async callbacks to progress.\u001b[39;00m\n",
      "\u001b[1;32m   1704\u001b[0m \u001b[38;5;28;01mif\u001b[39;00m ((\u001b[38;5;28mlen\u001b[39m(\u001b[38;5;28mself\u001b[39m\u001b[38;5;241m.\u001b[39m_jobs) \u001b[38;5;241m==\u001b[39m \u001b[38;5;241m0\u001b[39m) \u001b[38;5;129;01mor\u001b[39;00m\n",
      "\u001b[1;32m   1705\u001b[0m     (\u001b[38;5;28mself\u001b[39m\u001b[38;5;241m.\u001b[39m_jobs[\u001b[38;5;241m0\u001b[39m]\u001b[38;5;241m.\u001b[39mget_status(\n",
      "\u001b[1;32m   1706\u001b[0m         timeout\u001b[38;5;241m=\u001b[39m\u001b[38;5;28mself\u001b[39m\u001b[38;5;241m.\u001b[39mtimeout) \u001b[38;5;241m==\u001b[39m TASK_PENDING)):\n",
      "\u001b[0;32m-> 1707\u001b[0m     time\u001b[38;5;241m.\u001b[39msleep(\u001b[38;5;241m0.01\u001b[39m)\n",
      "\u001b[1;32m   1708\u001b[0m     \u001b[38;5;28;01mcontinue\u001b[39;00m\n",
      "\u001b[1;32m   1710\u001b[0m \u001b[38;5;66;03m# We need to be careful: the job list can be filling up as\u001b[39;00m\n",
      "\u001b[1;32m   1711\u001b[0m \u001b[38;5;66;03m# we empty it and Python list are not thread-safe by\u001b[39;00m\n",
      "\u001b[1;32m   1712\u001b[0m \u001b[38;5;66;03m# default hence the use of the lock\u001b[39;00m\n",
      "\n",
      "\u001b[0;31mKeyboardInterrupt\u001b[0m: "
     ]
    }
   ],
   "source": [
    "base_dt = DecisionTreeClassifier(random_state=42)\n",
    "bagging_dt = BaggingClassifier(base_estimator=base_dt, random_state=42)\n",
    "grid_search_bagging_dt = GridSearchCV(estimator=bagging_dt, param_grid=param_grid_bagging_dt, cv=5, scoring='f1', n_jobs=-1)\n",
    "grid_search_bagging_dt.fit(X_train, y_train)\n",
    "\n",
    "best_params_bagging_dt = grid_search_bagging_dt.best_params_"
   ]
  },
  {
   "cell_type": "code",
   "execution_count": null,
   "metadata": {},
   "outputs": [],
   "source": [
    "best_model_bagging_dt = BaggingClassifier(**best_params_bagging_dt, random_state=42)\n",
    "\n",
    "best_model_bagging_dt.fit(X_train, y_train)\n",
    "\n",
    "y_pred_bagging_dt = best_model_bagging_dt.predict(X_val)\n",
    "\n",
    "accuracy_bagging_dt = accuracy_score(y_val, y_pred_bagging_dt)\n",
    "\n",
    "f1_bagging_dt = f1_score(y_val, y_pred_bagging_dt)\n",
    "\n",
    "print(\"Decision Tree with Bagging - Best Parameters:\", best_params_bagging_dt)\n",
    "print(\"Decision Tree with Bagging - Accuracy:\", accuracy_bagging_dt)\n",
    "print(\"Decision Tree with Bagging - F1 Score:\", f1_bagging_dt)"
   ]
  },
  {
   "cell_type": "markdown",
   "metadata": {},
   "source": [
    "## Random Forest"
   ]
  },
  {
   "cell_type": "code",
   "execution_count": null,
   "metadata": {},
   "outputs": [],
   "source": [
    "param_grid_rf = {\n",
    "    'n_estimators': [50, 100, 200, 300],\n",
    "    'max_depth': [5, 10, 15],\n",
    "    'min_samples_split': [2, 5, 10],\n",
    "    'min_samples_leaf': [1, 2, 4],\n",
    "    'bootstrap': [True, False]\n",
    "}"
   ]
  },
  {
   "cell_type": "code",
   "execution_count": null,
   "metadata": {},
   "outputs": [],
   "source": [
    "rf = RandomForestClassifier(random_state=42)\n",
    "grid_search_rf = GridSearchCV(estimator=rf, param_grid=param_grid_rf, cv=5, scoring='f1', n_jobs=-1)\n",
    "grid_search_rf.fit(X_train, y_train)\n",
    "best_params_rf = grid_search_rf.best_params_"
   ]
  },
  {
   "cell_type": "code",
   "execution_count": null,
   "metadata": {},
   "outputs": [],
   "source": [
    "best_model_rf = RandomForestClassifier(**best_params_rf, random_state=42)\n",
    "best_model_rf.fit(X_train, y_train)\n",
    "y_pred_rf = best_model_rf.predict(X_val)\n",
    "accuracy_rf = accuracy_score(y_val, y_pred_rf)\n",
    "f1_rf = f1_score(y_val, y_pred_rf)\n",
    "print(\"Random Forest - Best Parameters:\", best_params_rf)\n",
    "print(\"Random Forest - Accuracy:\", accuracy_rf)\n",
    "print(\"Random Forest - F1 Score:\", f1_rf)"
   ]
  },
  {
   "cell_type": "markdown",
   "metadata": {},
   "source": [
    "## Gradient Boosting"
   ]
  },
  {
   "cell_type": "code",
   "execution_count": null,
   "metadata": {},
   "outputs": [],
   "source": [
    "param_grid_gb = {\n",
    "    'n_estimators': [50, 100, 150],\n",
    "    'learning_rate': [0.01, 0.1, 0.2],\n",
    "    'max_depth': [3, 4, 5],\n",
    "    'min_samples_split': [2, 5, 10],\n",
    "    'min_samples_leaf': [1, 2, 4]\n",
    "}"
   ]
  },
  {
   "cell_type": "code",
   "execution_count": null,
   "metadata": {},
   "outputs": [],
   "source": [
    "\n",
    "gb_model = GradientBoostingClassifier(random_state=42)\n",
    "\n",
    "grid_search_gb = GridSearchCV(estimator=gb_model, param_grid=param_grid_gb, cv=5, scoring='f1')\n",
    "\n",
    "grid_search_gb.fit(X_train, y_train)\n",
    "\n",
    "best_params_gb = grid_search_gb.best_params_"
   ]
  },
  {
   "cell_type": "code",
   "execution_count": null,
   "metadata": {},
   "outputs": [
    {
     "name": "stdout",
     "output_type": "stream",
     "text": [
      "Gradient Boosting - Best Parameters: {'learning_rate': 0.2, 'max_depth': 3, 'min_samples_leaf': 2, 'min_samples_split': 10, 'n_estimators': 50}\n",
      "Gradient Boosting - Accuracy: 0.7586327905670971\n",
      "Gradient Boosting - F1 Score: 0.29165808444902164\n"
     ]
    }
   ],
   "source": [
    "\n",
    "best_gb_model = GradientBoostingClassifier(**best_params_gb, random_state=42)\n",
    "\n",
    "best_gb_model.fit(X_train, y_train)\n",
    "\n",
    "y_pred_gb = best_gb_model.predict(X_val)\n",
    "\n",
    "accuracy_gb= accuracy_score(y_val, y_pred_gb)\n",
    "\n",
    "f1_gb = f1_score(y_val, y_pred_gb) \n",
    "\n",
    "print(\"Gradient Boosting - Best Parameters:\", best_params_gb)\n",
    "print(\"Gradient Boosting - Accuracy:\", accuracy_gb)\n",
    "print(\"Gradient Boosting - F1 Score:\", f1_gb)\n"
   ]
  },
  {
   "cell_type": "markdown",
   "metadata": {},
   "source": [
    "# Best Performance Models"
   ]
  },
  {
   "cell_type": "code",
   "execution_count": 511,
   "metadata": {},
   "outputs": [],
   "source": [
    "# X = pd.concat([X_train_select, X_val_select])\n",
    "# y = pd.concat([y_train, y_val])\n",
    "# # X_train = X_train_select\n",
    "# # X_val = X_val_select\n",
    "# test = test_select"
   ]
  },
  {
   "cell_type": "markdown",
   "metadata": {},
   "source": [
    "## SVM"
   ]
  },
  {
   "cell_type": "code",
   "execution_count": 218,
   "metadata": {},
   "outputs": [
    {
     "name": "stdout",
     "output_type": "stream",
     "text": [
      "F1 Score: 0.2905\n"
     ]
    }
   ],
   "source": [
    "svm_model = SVC(random_state=42, C= 1, gamma= 1, kernel= 'rbf')\n",
    "\n",
    "svm=svm_model.fit(X_train, y_train)\n",
    "\n",
    "y_pred = svm_model.predict(X_val)\n",
    "\n",
    "f1 = round(f1_score(y_val,y_pred), 4)\n",
    "print(f'F1 Score: {f1}')"
   ]
  },
  {
   "cell_type": "markdown",
   "metadata": {},
   "source": [
    "## Neural Networks"
   ]
  },
  {
   "cell_type": "code",
   "execution_count": 219,
   "metadata": {},
   "outputs": [
    {
     "name": "stdout",
     "output_type": "stream",
     "text": [
      "F1 Score: 0.2896\n"
     ]
    }
   ],
   "source": [
    "clf = MLPClassifier(random_state=42, activation=  'relu', alpha= 0.01, hidden_layer_sizes= (50,))\n",
    "\n",
    "nn=clf.fit(X_train, y_train)\n",
    "\n",
    "y_pred = nn.predict(X_val)\n",
    "\n",
    "f1 = round(f1_score(y_val,y_pred), 4)\n",
    "print(f'F1 Score: {f1}')"
   ]
  },
  {
   "cell_type": "markdown",
   "metadata": {},
   "source": [
    "## Gradient Boosting"
   ]
  },
  {
   "cell_type": "code",
   "execution_count": 220,
   "metadata": {},
   "outputs": [
    {
     "name": "stdout",
     "output_type": "stream",
     "text": [
      "F1 Score: 0.2917\n",
      "\n",
      "\n",
      "[[10101  2557]\n",
      " [  882   708]]\n"
     ]
    }
   ],
   "source": [
    "gb = GradientBoostingClassifier(random_state=42, learning_rate= 0.2, max_depth= 3, min_samples_leaf= 2, min_samples_split= 10, n_estimators= 50)\n",
    "\n",
    "gbc = gb.fit(X_train, y_train)\n",
    "\n",
    "y_pred = gbc.predict(X_val)\n",
    "\n",
    "f1 = round(f1_score(y_val, y_pred), 4)\n",
    "print(f\"F1 Score: {f1}\")\n",
    "print('\\n')\n",
    "cm = confusion_matrix(y_val, y_pred)\n",
    "print(cm)\n"
   ]
  },
  {
   "cell_type": "markdown",
   "metadata": {},
   "source": [
    "## Personalized Bagging"
   ]
  },
  {
   "cell_type": "code",
   "execution_count": 221,
   "metadata": {},
   "outputs": [
    {
     "name": "stdout",
     "output_type": "stream",
     "text": [
      "Ensemble Model F1 Score: 0.2950\n",
      "\n",
      "\n",
      "[[10439  2219]\n",
      " [  931   659]] \n",
      "\n"
     ]
    }
   ],
   "source": [
    "from sklearn.ensemble import VotingClassifier\n",
    "\n",
    "# Define individual classifiers\n",
    "dt_model = DecisionTreeClassifier(random_state=42)\n",
    "rf_model = RandomForestClassifier(random_state=42)\n",
    "gb_model = GradientBoostingClassifier(random_state=42, learning_rate= 0.2, max_depth= 3, min_samples_leaf= 2, min_samples_split= 10, n_estimators= 50)\n",
    "svm_model = SVC(probability=True, random_state=42, C= 1, gamma= 1, kernel= 'rbf') \n",
    "nn_model = MLPClassifier(random_state=42)\n",
    "logreg_model = LogisticRegression(random_state=42)\n",
    "\n",
    "voting_classifier = VotingClassifier(\n",
    "    estimators=[\n",
    "        ('DecisionTree', dt_model),\n",
    "        ('RandomForest', rf_model),\n",
    "        ('GradientBoosting', gb_model),\n",
    "        ('SVM', svm_model),\n",
    "        ('NeuralNetwork', nn_model),\n",
    "        ('LogisticRegression', logreg_model)\n",
    "    ],\n",
    "    voting='hard'  # 'hard': majority voting\n",
    ")\n",
    "\n",
    "voting_classifier.fit(X_train_select, y_train)\n",
    "\n",
    "y_pred = voting_classifier.predict(X_val_select)\n",
    "\n",
    "f1 = f1_score(y_val, y_pred)\n",
    "\n",
    "print(f\"Ensemble Model F1 Score: {f1:.4f}\")\n",
    "\n",
    "print('\\n')\n",
    "cm = confusion_matrix(y_val, y_pred)\n",
    "print(cm, '\\n')"
   ]
  },
  {
   "cell_type": "markdown",
   "metadata": {},
   "source": [
    "----------------------------------"
   ]
  },
  {
   "cell_type": "markdown",
   "metadata": {},
   "source": [
    "## Predicting the test csv"
   ]
  },
  {
   "cell_type": "code",
   "execution_count": 512,
   "metadata": {},
   "outputs": [],
   "source": [
    "#y_pred_test_lm=lm.predict(test)\n",
    "#y_pred_test_rf=rf.predict(test)\n",
    "y_pred_test_svm=svm.predict(test)\n",
    "#y_pred_test_nn=nn.predict(test)\n",
    "#y_pred_test_gnb=gnb.predict(test)\n",
    "#y_pred_test_dt=clf.predict(test)\n",
    "# y_pred_test_gbc=gbc.predict(test)"
   ]
  },
  {
   "cell_type": "code",
   "execution_count": 513,
   "metadata": {},
   "outputs": [],
   "source": [
    "# #Logistic Previsions\n",
    "# y_pred_test_lm=y_pred_test_lm.tolist()\n",
    "# y_pred_test_lm = ['No' if x == 0.0 else 'Yes' if x == 1.0 else x for x in y_pred_test_lm]\n",
    "\n",
    "# #Random Forest Previsions\n",
    "# y_pred_test_rf=y_pred_test_rf.tolist()\n",
    "# y_pred_test_rf = ['No' if x == 0.0 else 'Yes' if x == 1.0 else x for x in y_pred_test_rf]\n",
    "\n",
    "#SVM Predictions\n",
    "y_pred_test_svm=y_pred_test_svm.tolist()\n",
    "y_pred_test_svm = ['No' if x == 0.0 else 'Yes' if x == 1.0 else x for x in y_pred_test_svm]\n",
    "\n",
    "# #Neural networks Predictions\n",
    "# y_pred_test_nn=y_pred_test_nn.tolist()\n",
    "# y_pred_test_nn = ['No' if x == 0.0 else 'Yes' if x == 1.0 else x for x in y_pred_test_nn]\n",
    "\n",
    "# #Gaussian Predictions\n",
    "# y_pred_test_gnb=y_pred_test_gnb.tolist()\n",
    "# y_pred_test_gnb = ['No' if x == 0.0 else 'Yes' if x == 1.0 else x for x in y_pred_test_gnb]\n",
    "\n",
    "# #Decision Trees Predictions\n",
    "# y_pred_test_dt=y_pred_test_dt.tolist()\n",
    "# y_pred_test_dt = ['No' if x == 0.0 else 'Yes' if x == 1.0 else x for x in y_pred_test_gnb]\n",
    "\n",
    "# #Gradient Boosting\n",
    "# y_pred_test_gbc = y_pred_test_gbc.tolist()\n",
    "# y_pred_test_gbc = ['No' if x == 0.0 else 'Yes' if x == 1.0 else x for x in y_pred_test_gbc]"
   ]
  },
  {
   "cell_type": "code",
   "execution_count": 514,
   "metadata": {},
   "outputs": [],
   "source": [
    "file_path = '../project_data/sample_submission.csv' \n",
    "\n",
    "submit = pd.read_csv(file_path,index_col = 'encounter_id')\n",
    "\n",
    "#submit['readmitted_binary']=y_pred_test_lm\n",
    "#submit['readmitted_binary']=y_pred_test_rf\n",
    "submit['readmitted_binary']=y_pred_test_svm\n",
    "#submit['readmitted_binary']=y_pred_test_nn\n",
    "#submit['readmitted_binary']=y_pred_test_gnb\n",
    "#submit['readmitted_binary']=y_pred_test_dt\n",
    "# submit['readmitted_binary']=y_pred_test_gbc\n",
    "\n",
    "#submit.to_csv('sample_submission_lmrfe.csv', index='encounter_id')\n",
    "#submit.to_csv('sample_submission_rf2.csv', index='encounter_id')\n",
    "submit.to_csv('sample_submission_svm2.csv', index='encounter_id')\n",
    "#submit.to_csv('sample_submission_nn2.csv', index='encounter_id')\n",
    "#submit.to_csv('sample_submission_gnb2.csv', index='encounter_id')\n",
    "#submit.to_csv('sample_submission_dt.csv', index='encounter_id')\n",
    "# submit.to_csv('sample_submission_gbc.csv', index='encounter_id')"
   ]
  },
  {
   "cell_type": "markdown",
   "metadata": {},
   "source": [
    "-----------------------------------------"
   ]
  }
 ],
 "metadata": {
  "kernelspec": {
   "display_name": "Python 3 (ipykernel)",
   "language": "python",
   "name": "python3"
  },
  "language_info": {
   "codemirror_mode": {
    "name": "ipython",
    "version": 3
   },
   "file_extension": ".py",
   "mimetype": "text/x-python",
   "name": "python",
   "nbconvert_exporter": "python",
   "pygments_lexer": "ipython3",
   "version": "3.11.6"
  }
 },
 "nbformat": 4,
 "nbformat_minor": 4
}
